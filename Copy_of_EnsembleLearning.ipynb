{
  "cells": [
    {
      "cell_type": "markdown",
      "metadata": {
        "id": "view-in-github",
        "colab_type": "text"
      },
      "source": [
        "<a href=\"https://colab.research.google.com/github/NiallSheridan22/MachineLearning/blob/main/Copy_of_EnsembleLearning.ipynb\" target=\"_parent\"><img src=\"https://colab.research.google.com/assets/colab-badge.svg\" alt=\"Open In Colab\"/></a>"
      ]
    },
    {
      "cell_type": "markdown",
      "source": [
        "The goal of this study is to identify the most significant factors for recognizing credit card fraud trends using Feature Selection, and then to assess the effectiveness of several Machine Learning models (using these variables) functioning both independently and together using Ensemble Learning.\n"
      ],
      "metadata": {
        "id": "2_GXV0eNOSnp"
      }
    },
    {
      "cell_type": "markdown",
      "metadata": {
        "id": "7ngEsnne-AI5"
      },
      "source": [
        "Ensemble learning the process by which multiple models, such as classifiers or experts, are strategically generated and combined to solve a particular computational intelligence problem."
      ]
    },
    {
      "cell_type": "code",
      "execution_count": 23,
      "metadata": {
        "id": "wqUQU-DN-Y2X"
      },
      "outputs": [],
      "source": [
        "#Import Libraries that are needed.\n",
        "# Base Libraries\n",
        "import matplotlib.pyplot as plt  \n",
        "import pandas as pd\n",
        "import numpy as np\n",
        "from numpy import set_printoptions\n",
        "from numpy import mean\n",
        "# Models\n",
        "from sklearn.model_selection import train_test_split\n",
        "from sklearn.model_selection import GridSearchCV\n",
        "from sklearn.neighbors import KNeighborsClassifier\n",
        "from sklearn.linear_model import LogisticRegression\n",
        "from sklearn.ensemble import RandomForestClassifier\n",
        "from sklearn.ensemble import ExtraTreesClassifier\n",
        "from sklearn.ensemble import VotingClassifier\n",
        "from sklearn.ensemble import StackingClassifier\n",
        "# Metrics\n",
        "from sklearn.metrics import accuracy_score\n",
        "from sklearn.metrics import auc\n",
        "from sklearn.metrics import roc_curve\n",
        "from sklearn.metrics import plot_confusion_matrix\n",
        "\n"
      ]
    },
    {
      "cell_type": "code",
      "execution_count": 24,
      "metadata": {
        "id": "DfzdoBPwUnLE",
        "colab": {
          "base_uri": "https://localhost:8080/",
          "height": 473
        },
        "outputId": "232cd397-c7c6-4b2b-9542-403ddc49fdf8"
      },
      "outputs": [
        {
          "output_type": "stream",
          "name": "stdout",
          "text": [
            "69415\n"
          ]
        },
        {
          "output_type": "execute_result",
          "data": {
            "text/plain": [
              "   Time        V1        V2        V3        V4        V5        V6        V7  \\\n",
              "0     0 -1.359807 -0.072781  2.536347  1.378155 -0.338321  0.462388  0.239599   \n",
              "1     0  1.191857  0.266151  0.166480  0.448154  0.060018 -0.082361 -0.078803   \n",
              "2     1 -1.358354 -1.340163  1.773209  0.379780 -0.503198  1.800499  0.791461   \n",
              "3     1 -0.966272 -0.185226  1.792993 -0.863291 -0.010309  1.247203  0.237609   \n",
              "4     2 -1.158233  0.877737  1.548718  0.403034 -0.407193  0.095921  0.592941   \n",
              "5     2 -0.425966  0.960523  1.141109 -0.168252  0.420987 -0.029728  0.476201   \n",
              "6     4  1.229658  0.141004  0.045371  1.202613  0.191881  0.272708 -0.005159   \n",
              "7     7 -0.644269  1.417964  1.074380 -0.492199  0.948934  0.428118  1.120631   \n",
              "8     7 -0.894286  0.286157 -0.113192 -0.271526  2.669599  3.721818  0.370145   \n",
              "9     9 -0.338262  1.119593  1.044367 -0.222187  0.499361 -0.246761  0.651583   \n",
              "\n",
              "         V8        V9  ...       V21       V22       V23       V24       V25  \\\n",
              "0  0.098698  0.363787  ... -0.018307  0.277838 -0.110474  0.066928  0.128539   \n",
              "1  0.085102 -0.255425  ... -0.225775 -0.638672  0.101288 -0.339846  0.167170   \n",
              "2  0.247676 -1.514654  ...  0.247998  0.771679  0.909412 -0.689281 -0.327642   \n",
              "3  0.377436 -1.387024  ... -0.108300  0.005274 -0.190321 -1.175575  0.647376   \n",
              "4 -0.270533  0.817739  ... -0.009431  0.798278 -0.137458  0.141267 -0.206010   \n",
              "5  0.260314 -0.568671  ... -0.208254 -0.559825 -0.026398 -0.371427 -0.232794   \n",
              "6  0.081213  0.464960  ... -0.167716 -0.270710 -0.154104 -0.780055  0.750137   \n",
              "7 -3.807864  0.615375  ...  1.943465 -1.015455  0.057504 -0.649709 -0.415267   \n",
              "8  0.851084 -0.392048  ... -0.073425 -0.268092 -0.204233  1.011592  0.373205   \n",
              "9  0.069539 -0.736727  ... -0.246914 -0.633753 -0.120794 -0.385050 -0.069733   \n",
              "\n",
              "        V26       V27       V28  Amount  Class  \n",
              "0 -0.189115  0.133558 -0.021053  149.62    0.0  \n",
              "1  0.125895 -0.008983  0.014724    2.69    0.0  \n",
              "2 -0.139097 -0.055353 -0.059752  378.66    0.0  \n",
              "3 -0.221929  0.062723  0.061458  123.50    0.0  \n",
              "4  0.502292  0.219422  0.215153   69.99    0.0  \n",
              "5  0.105915  0.253844  0.081080    3.67    0.0  \n",
              "6 -0.257237  0.034507  0.005168    4.99    0.0  \n",
              "7 -0.051634 -1.206921 -1.085339   40.80    0.0  \n",
              "8 -0.384157  0.011747  0.142404   93.20    0.0  \n",
              "9  0.094199  0.246219  0.083076    3.68    0.0  \n",
              "\n",
              "[10 rows x 31 columns]"
            ],
            "text/html": [
              "\n",
              "  <div id=\"df-7da4466b-3fa8-481f-865f-750b4f4d98bf\">\n",
              "    <div class=\"colab-df-container\">\n",
              "      <div>\n",
              "<style scoped>\n",
              "    .dataframe tbody tr th:only-of-type {\n",
              "        vertical-align: middle;\n",
              "    }\n",
              "\n",
              "    .dataframe tbody tr th {\n",
              "        vertical-align: top;\n",
              "    }\n",
              "\n",
              "    .dataframe thead th {\n",
              "        text-align: right;\n",
              "    }\n",
              "</style>\n",
              "<table border=\"1\" class=\"dataframe\">\n",
              "  <thead>\n",
              "    <tr style=\"text-align: right;\">\n",
              "      <th></th>\n",
              "      <th>Time</th>\n",
              "      <th>V1</th>\n",
              "      <th>V2</th>\n",
              "      <th>V3</th>\n",
              "      <th>V4</th>\n",
              "      <th>V5</th>\n",
              "      <th>V6</th>\n",
              "      <th>V7</th>\n",
              "      <th>V8</th>\n",
              "      <th>V9</th>\n",
              "      <th>...</th>\n",
              "      <th>V21</th>\n",
              "      <th>V22</th>\n",
              "      <th>V23</th>\n",
              "      <th>V24</th>\n",
              "      <th>V25</th>\n",
              "      <th>V26</th>\n",
              "      <th>V27</th>\n",
              "      <th>V28</th>\n",
              "      <th>Amount</th>\n",
              "      <th>Class</th>\n",
              "    </tr>\n",
              "  </thead>\n",
              "  <tbody>\n",
              "    <tr>\n",
              "      <th>0</th>\n",
              "      <td>0</td>\n",
              "      <td>-1.359807</td>\n",
              "      <td>-0.072781</td>\n",
              "      <td>2.536347</td>\n",
              "      <td>1.378155</td>\n",
              "      <td>-0.338321</td>\n",
              "      <td>0.462388</td>\n",
              "      <td>0.239599</td>\n",
              "      <td>0.098698</td>\n",
              "      <td>0.363787</td>\n",
              "      <td>...</td>\n",
              "      <td>-0.018307</td>\n",
              "      <td>0.277838</td>\n",
              "      <td>-0.110474</td>\n",
              "      <td>0.066928</td>\n",
              "      <td>0.128539</td>\n",
              "      <td>-0.189115</td>\n",
              "      <td>0.133558</td>\n",
              "      <td>-0.021053</td>\n",
              "      <td>149.62</td>\n",
              "      <td>0.0</td>\n",
              "    </tr>\n",
              "    <tr>\n",
              "      <th>1</th>\n",
              "      <td>0</td>\n",
              "      <td>1.191857</td>\n",
              "      <td>0.266151</td>\n",
              "      <td>0.166480</td>\n",
              "      <td>0.448154</td>\n",
              "      <td>0.060018</td>\n",
              "      <td>-0.082361</td>\n",
              "      <td>-0.078803</td>\n",
              "      <td>0.085102</td>\n",
              "      <td>-0.255425</td>\n",
              "      <td>...</td>\n",
              "      <td>-0.225775</td>\n",
              "      <td>-0.638672</td>\n",
              "      <td>0.101288</td>\n",
              "      <td>-0.339846</td>\n",
              "      <td>0.167170</td>\n",
              "      <td>0.125895</td>\n",
              "      <td>-0.008983</td>\n",
              "      <td>0.014724</td>\n",
              "      <td>2.69</td>\n",
              "      <td>0.0</td>\n",
              "    </tr>\n",
              "    <tr>\n",
              "      <th>2</th>\n",
              "      <td>1</td>\n",
              "      <td>-1.358354</td>\n",
              "      <td>-1.340163</td>\n",
              "      <td>1.773209</td>\n",
              "      <td>0.379780</td>\n",
              "      <td>-0.503198</td>\n",
              "      <td>1.800499</td>\n",
              "      <td>0.791461</td>\n",
              "      <td>0.247676</td>\n",
              "      <td>-1.514654</td>\n",
              "      <td>...</td>\n",
              "      <td>0.247998</td>\n",
              "      <td>0.771679</td>\n",
              "      <td>0.909412</td>\n",
              "      <td>-0.689281</td>\n",
              "      <td>-0.327642</td>\n",
              "      <td>-0.139097</td>\n",
              "      <td>-0.055353</td>\n",
              "      <td>-0.059752</td>\n",
              "      <td>378.66</td>\n",
              "      <td>0.0</td>\n",
              "    </tr>\n",
              "    <tr>\n",
              "      <th>3</th>\n",
              "      <td>1</td>\n",
              "      <td>-0.966272</td>\n",
              "      <td>-0.185226</td>\n",
              "      <td>1.792993</td>\n",
              "      <td>-0.863291</td>\n",
              "      <td>-0.010309</td>\n",
              "      <td>1.247203</td>\n",
              "      <td>0.237609</td>\n",
              "      <td>0.377436</td>\n",
              "      <td>-1.387024</td>\n",
              "      <td>...</td>\n",
              "      <td>-0.108300</td>\n",
              "      <td>0.005274</td>\n",
              "      <td>-0.190321</td>\n",
              "      <td>-1.175575</td>\n",
              "      <td>0.647376</td>\n",
              "      <td>-0.221929</td>\n",
              "      <td>0.062723</td>\n",
              "      <td>0.061458</td>\n",
              "      <td>123.50</td>\n",
              "      <td>0.0</td>\n",
              "    </tr>\n",
              "    <tr>\n",
              "      <th>4</th>\n",
              "      <td>2</td>\n",
              "      <td>-1.158233</td>\n",
              "      <td>0.877737</td>\n",
              "      <td>1.548718</td>\n",
              "      <td>0.403034</td>\n",
              "      <td>-0.407193</td>\n",
              "      <td>0.095921</td>\n",
              "      <td>0.592941</td>\n",
              "      <td>-0.270533</td>\n",
              "      <td>0.817739</td>\n",
              "      <td>...</td>\n",
              "      <td>-0.009431</td>\n",
              "      <td>0.798278</td>\n",
              "      <td>-0.137458</td>\n",
              "      <td>0.141267</td>\n",
              "      <td>-0.206010</td>\n",
              "      <td>0.502292</td>\n",
              "      <td>0.219422</td>\n",
              "      <td>0.215153</td>\n",
              "      <td>69.99</td>\n",
              "      <td>0.0</td>\n",
              "    </tr>\n",
              "    <tr>\n",
              "      <th>5</th>\n",
              "      <td>2</td>\n",
              "      <td>-0.425966</td>\n",
              "      <td>0.960523</td>\n",
              "      <td>1.141109</td>\n",
              "      <td>-0.168252</td>\n",
              "      <td>0.420987</td>\n",
              "      <td>-0.029728</td>\n",
              "      <td>0.476201</td>\n",
              "      <td>0.260314</td>\n",
              "      <td>-0.568671</td>\n",
              "      <td>...</td>\n",
              "      <td>-0.208254</td>\n",
              "      <td>-0.559825</td>\n",
              "      <td>-0.026398</td>\n",
              "      <td>-0.371427</td>\n",
              "      <td>-0.232794</td>\n",
              "      <td>0.105915</td>\n",
              "      <td>0.253844</td>\n",
              "      <td>0.081080</td>\n",
              "      <td>3.67</td>\n",
              "      <td>0.0</td>\n",
              "    </tr>\n",
              "    <tr>\n",
              "      <th>6</th>\n",
              "      <td>4</td>\n",
              "      <td>1.229658</td>\n",
              "      <td>0.141004</td>\n",
              "      <td>0.045371</td>\n",
              "      <td>1.202613</td>\n",
              "      <td>0.191881</td>\n",
              "      <td>0.272708</td>\n",
              "      <td>-0.005159</td>\n",
              "      <td>0.081213</td>\n",
              "      <td>0.464960</td>\n",
              "      <td>...</td>\n",
              "      <td>-0.167716</td>\n",
              "      <td>-0.270710</td>\n",
              "      <td>-0.154104</td>\n",
              "      <td>-0.780055</td>\n",
              "      <td>0.750137</td>\n",
              "      <td>-0.257237</td>\n",
              "      <td>0.034507</td>\n",
              "      <td>0.005168</td>\n",
              "      <td>4.99</td>\n",
              "      <td>0.0</td>\n",
              "    </tr>\n",
              "    <tr>\n",
              "      <th>7</th>\n",
              "      <td>7</td>\n",
              "      <td>-0.644269</td>\n",
              "      <td>1.417964</td>\n",
              "      <td>1.074380</td>\n",
              "      <td>-0.492199</td>\n",
              "      <td>0.948934</td>\n",
              "      <td>0.428118</td>\n",
              "      <td>1.120631</td>\n",
              "      <td>-3.807864</td>\n",
              "      <td>0.615375</td>\n",
              "      <td>...</td>\n",
              "      <td>1.943465</td>\n",
              "      <td>-1.015455</td>\n",
              "      <td>0.057504</td>\n",
              "      <td>-0.649709</td>\n",
              "      <td>-0.415267</td>\n",
              "      <td>-0.051634</td>\n",
              "      <td>-1.206921</td>\n",
              "      <td>-1.085339</td>\n",
              "      <td>40.80</td>\n",
              "      <td>0.0</td>\n",
              "    </tr>\n",
              "    <tr>\n",
              "      <th>8</th>\n",
              "      <td>7</td>\n",
              "      <td>-0.894286</td>\n",
              "      <td>0.286157</td>\n",
              "      <td>-0.113192</td>\n",
              "      <td>-0.271526</td>\n",
              "      <td>2.669599</td>\n",
              "      <td>3.721818</td>\n",
              "      <td>0.370145</td>\n",
              "      <td>0.851084</td>\n",
              "      <td>-0.392048</td>\n",
              "      <td>...</td>\n",
              "      <td>-0.073425</td>\n",
              "      <td>-0.268092</td>\n",
              "      <td>-0.204233</td>\n",
              "      <td>1.011592</td>\n",
              "      <td>0.373205</td>\n",
              "      <td>-0.384157</td>\n",
              "      <td>0.011747</td>\n",
              "      <td>0.142404</td>\n",
              "      <td>93.20</td>\n",
              "      <td>0.0</td>\n",
              "    </tr>\n",
              "    <tr>\n",
              "      <th>9</th>\n",
              "      <td>9</td>\n",
              "      <td>-0.338262</td>\n",
              "      <td>1.119593</td>\n",
              "      <td>1.044367</td>\n",
              "      <td>-0.222187</td>\n",
              "      <td>0.499361</td>\n",
              "      <td>-0.246761</td>\n",
              "      <td>0.651583</td>\n",
              "      <td>0.069539</td>\n",
              "      <td>-0.736727</td>\n",
              "      <td>...</td>\n",
              "      <td>-0.246914</td>\n",
              "      <td>-0.633753</td>\n",
              "      <td>-0.120794</td>\n",
              "      <td>-0.385050</td>\n",
              "      <td>-0.069733</td>\n",
              "      <td>0.094199</td>\n",
              "      <td>0.246219</td>\n",
              "      <td>0.083076</td>\n",
              "      <td>3.68</td>\n",
              "      <td>0.0</td>\n",
              "    </tr>\n",
              "  </tbody>\n",
              "</table>\n",
              "<p>10 rows × 31 columns</p>\n",
              "</div>\n",
              "      <button class=\"colab-df-convert\" onclick=\"convertToInteractive('df-7da4466b-3fa8-481f-865f-750b4f4d98bf')\"\n",
              "              title=\"Convert this dataframe to an interactive table.\"\n",
              "              style=\"display:none;\">\n",
              "        \n",
              "  <svg xmlns=\"http://www.w3.org/2000/svg\" height=\"24px\"viewBox=\"0 0 24 24\"\n",
              "       width=\"24px\">\n",
              "    <path d=\"M0 0h24v24H0V0z\" fill=\"none\"/>\n",
              "    <path d=\"M18.56 5.44l.94 2.06.94-2.06 2.06-.94-2.06-.94-.94-2.06-.94 2.06-2.06.94zm-11 1L8.5 8.5l.94-2.06 2.06-.94-2.06-.94L8.5 2.5l-.94 2.06-2.06.94zm10 10l.94 2.06.94-2.06 2.06-.94-2.06-.94-.94-2.06-.94 2.06-2.06.94z\"/><path d=\"M17.41 7.96l-1.37-1.37c-.4-.4-.92-.59-1.43-.59-.52 0-1.04.2-1.43.59L10.3 9.45l-7.72 7.72c-.78.78-.78 2.05 0 2.83L4 21.41c.39.39.9.59 1.41.59.51 0 1.02-.2 1.41-.59l7.78-7.78 2.81-2.81c.8-.78.8-2.07 0-2.86zM5.41 20L4 18.59l7.72-7.72 1.47 1.35L5.41 20z\"/>\n",
              "  </svg>\n",
              "      </button>\n",
              "      \n",
              "  <style>\n",
              "    .colab-df-container {\n",
              "      display:flex;\n",
              "      flex-wrap:wrap;\n",
              "      gap: 12px;\n",
              "    }\n",
              "\n",
              "    .colab-df-convert {\n",
              "      background-color: #E8F0FE;\n",
              "      border: none;\n",
              "      border-radius: 50%;\n",
              "      cursor: pointer;\n",
              "      display: none;\n",
              "      fill: #1967D2;\n",
              "      height: 32px;\n",
              "      padding: 0 0 0 0;\n",
              "      width: 32px;\n",
              "    }\n",
              "\n",
              "    .colab-df-convert:hover {\n",
              "      background-color: #E2EBFA;\n",
              "      box-shadow: 0px 1px 2px rgba(60, 64, 67, 0.3), 0px 1px 3px 1px rgba(60, 64, 67, 0.15);\n",
              "      fill: #174EA6;\n",
              "    }\n",
              "\n",
              "    [theme=dark] .colab-df-convert {\n",
              "      background-color: #3B4455;\n",
              "      fill: #D2E3FC;\n",
              "    }\n",
              "\n",
              "    [theme=dark] .colab-df-convert:hover {\n",
              "      background-color: #434B5C;\n",
              "      box-shadow: 0px 1px 3px 1px rgba(0, 0, 0, 0.15);\n",
              "      filter: drop-shadow(0px 1px 2px rgba(0, 0, 0, 0.3));\n",
              "      fill: #FFFFFF;\n",
              "    }\n",
              "  </style>\n",
              "\n",
              "      <script>\n",
              "        const buttonEl =\n",
              "          document.querySelector('#df-7da4466b-3fa8-481f-865f-750b4f4d98bf button.colab-df-convert');\n",
              "        buttonEl.style.display =\n",
              "          google.colab.kernel.accessAllowed ? 'block' : 'none';\n",
              "\n",
              "        async function convertToInteractive(key) {\n",
              "          const element = document.querySelector('#df-7da4466b-3fa8-481f-865f-750b4f4d98bf');\n",
              "          const dataTable =\n",
              "            await google.colab.kernel.invokeFunction('convertToInteractive',\n",
              "                                                     [key], {});\n",
              "          if (!dataTable) return;\n",
              "\n",
              "          const docLinkHtml = 'Like what you see? Visit the ' +\n",
              "            '<a target=\"_blank\" href=https://colab.research.google.com/notebooks/data_table.ipynb>data table notebook</a>'\n",
              "            + ' to learn more about interactive tables.';\n",
              "          element.innerHTML = '';\n",
              "          dataTable['output_type'] = 'display_data';\n",
              "          await google.colab.output.renderOutput(dataTable, element);\n",
              "          const docLink = document.createElement('div');\n",
              "          docLink.innerHTML = docLinkHtml;\n",
              "          element.appendChild(docLink);\n",
              "        }\n",
              "      </script>\n",
              "    </div>\n",
              "  </div>\n",
              "  "
            ]
          },
          "metadata": {},
          "execution_count": 24
        }
      ],
      "source": [
        "creditCard = pd.read_csv('./creditcard.csv', sep=',')\n",
        "print(len(creditCard)) #number of rows\n",
        "creditCard.head(10)\n"
      ]
    },
    {
      "cell_type": "code",
      "source": [
        "\n",
        "# Check for duplicates\n",
        "duplicates = creditCard.duplicated()\n",
        "\n",
        "# Print the number of duplicates\n",
        "print(\"Number of duplicates:\", duplicates.sum())\n",
        "\n",
        "# Print the rows that are duplicates\n",
        "print(\"Duplicate rows:\")\n",
        "print(creditCard[duplicates])"
      ],
      "metadata": {
        "id": "fanFWDAsB3cT",
        "colab": {
          "base_uri": "https://localhost:8080/"
        },
        "outputId": "325b1be5-5ea5-4739-b437-48fc454a0a25"
      },
      "execution_count": 25,
      "outputs": [
        {
          "output_type": "stream",
          "name": "stdout",
          "text": [
            "Number of duplicates: 264\n",
            "Duplicate rows:\n",
            "        Time        V1        V2        V3        V4        V5        V6  \\\n",
            "33        26 -0.529912  0.873892  1.347247  0.145457  0.414209  0.100223   \n",
            "35        26 -0.535388  0.865268  1.351076  0.147575  0.433680  0.086983   \n",
            "113       74  1.038370  0.127486  0.184456  1.109950  0.441699  0.945283   \n",
            "114       74  1.038370  0.127486  0.184456  1.109950  0.441699  0.945283   \n",
            "115       74  1.038370  0.127486  0.184456  1.109950  0.441699  0.945283   \n",
            "...      ...       ...       ...       ...       ...       ...       ...   \n",
            "63209  50608 -0.988271 -0.932178  1.717482 -1.694737  0.957518 -1.149287   \n",
            "66601  52127  1.086164  0.093622  0.501010  1.496840 -0.372806 -0.366468   \n",
            "66603  52127  1.121034  0.151243  0.521250  1.482178 -0.355005 -0.372963   \n",
            "68899  53183 -3.294421  2.012037 -0.638100 -1.216179 -1.159612 -1.035571   \n",
            "68901  53183 -2.518832  3.233574 -1.180463 -1.516301 -3.917682  0.839866   \n",
            "\n",
            "             V7        V8        V9  ...       V21       V22       V23  \\\n",
            "33     0.711206  0.176066 -0.286717  ...  0.046949  0.208105 -0.185548   \n",
            "35     0.693039  0.179742 -0.285642  ...  0.049526  0.206537 -0.187108   \n",
            "113   -0.036715  0.350995  0.118950  ...  0.102520  0.605089  0.023092   \n",
            "114   -0.036715  0.350995  0.118950  ...  0.102520  0.605089  0.023092   \n",
            "115   -0.036715  0.350995  0.118950  ...  0.102520  0.605089  0.023092   \n",
            "...         ...       ...       ...  ...       ...       ...       ...   \n",
            "63209  0.649517 -1.029868 -0.496942  ...  0.010248  0.694859 -0.621559   \n",
            "66601  0.083662 -0.018729  0.330979  ... -0.068037 -0.047133 -0.041746   \n",
            "66603  0.059710 -0.014044  0.333105  ... -0.078974 -0.037606 -0.025837   \n",
            "68899 -0.546133  1.577602 -0.240713  ... -0.072616 -0.454834  0.018939   \n",
            "68901  2.027147  1.056862 -0.392995  ... -0.437588 -0.232687  0.239870   \n",
            "\n",
            "            V24       V25       V26       V27       V28  Amount  Class  \n",
            "33     0.001031  0.098816 -0.552904 -0.073288  0.023307    6.14    0.0  \n",
            "35     0.000753  0.098117 -0.553471 -0.078306  0.025427    1.77    0.0  \n",
            "113   -0.626463  0.479120 -0.166937  0.081247  0.001192    1.18    0.0  \n",
            "114   -0.626463  0.479120 -0.166937  0.081247  0.001192    1.18    0.0  \n",
            "115   -0.626463  0.479120 -0.166937  0.081247  0.001192    1.18    0.0  \n",
            "...         ...       ...       ...       ...       ...     ...    ...  \n",
            "63209  0.373755  0.377671 -0.382606 -1.066374 -0.700201   18.00    0.0  \n",
            "66601  0.410568  0.594542 -0.334603  0.032050  0.023400   37.05    0.0  \n",
            "66603  0.409642  0.601170 -0.332678  0.035460  0.020257   19.00    0.0  \n",
            "68899  0.142009 -0.180752  0.673779 -0.152496  0.118241   40.00    0.0  \n",
            "68901  0.181337 -0.081727  0.754145  0.558209 -0.182099  659.00    0.0  \n",
            "\n",
            "[264 rows x 31 columns]\n"
          ]
        }
      ]
    },
    {
      "cell_type": "markdown",
      "source": [
        "There was 100 duplicates now there is zero after using the drop duplicates."
      ],
      "metadata": {
        "id": "mWlERkr1IU1O"
      }
    },
    {
      "cell_type": "code",
      "source": [
        "creditCard = creditCard.drop_duplicates() ##removing any duplicates\n"
      ],
      "metadata": {
        "id": "atElWoOQH5IP"
      },
      "execution_count": 26,
      "outputs": []
    },
    {
      "cell_type": "markdown",
      "metadata": {
        "id": "ez2XQL18U2nY"
      },
      "source": [
        "I know from the logitic Regression model that the dataset contains times and 28 different refernces regarding customers card consumptions. Next I will split the data into train & test sets. "
      ]
    },
    {
      "cell_type": "code",
      "execution_count": 27,
      "metadata": {
        "id": "XAhgAysqdI73",
        "colab": {
          "base_uri": "https://localhost:8080/"
        },
        "outputId": "aad5e1a6-84c4-437f-b1c1-72c3cd230b76"
      },
      "outputs": [
        {
          "output_type": "execute_result",
          "data": {
            "text/plain": [
              "Time      0\n",
              "V1        0\n",
              "V2        0\n",
              "V3        0\n",
              "V4        0\n",
              "V5        0\n",
              "V6        0\n",
              "V7        0\n",
              "V8        0\n",
              "V9        0\n",
              "V10       0\n",
              "V11       0\n",
              "V12       0\n",
              "V13       0\n",
              "V14       1\n",
              "V15       1\n",
              "V16       1\n",
              "V17       1\n",
              "V18       1\n",
              "V19       1\n",
              "V20       1\n",
              "V21       1\n",
              "V22       1\n",
              "V23       1\n",
              "V24       1\n",
              "V25       1\n",
              "V26       1\n",
              "V27       1\n",
              "V28       1\n",
              "Amount    1\n",
              "Class     1\n",
              "dtype: int64"
            ]
          },
          "metadata": {},
          "execution_count": 27
        }
      ],
      "source": [
        "creditCard.isnull().sum() ##checking to see if theres missing values in the dataset"
      ]
    },
    {
      "cell_type": "code",
      "execution_count": 28,
      "metadata": {
        "id": "ffH2dRjBdonY"
      },
      "outputs": [],
      "source": [
        "creditCard = creditCard.dropna() ##CreditCard \n",
        "##DataFrame has missing values, I can remove the rows containing missing values \n",
        "##using dropna method of Pandas DataFrame. \n"
      ]
    },
    {
      "cell_type": "code",
      "execution_count": 29,
      "metadata": {
        "id": "Ufb4QhnGd-An",
        "colab": {
          "base_uri": "https://localhost:8080/"
        },
        "outputId": "50a17cab-7967-4dc8-c15d-03489141791e"
      },
      "outputs": [
        {
          "output_type": "execute_result",
          "data": {
            "text/plain": [
              "Time      0\n",
              "V1        0\n",
              "V2        0\n",
              "V3        0\n",
              "V4        0\n",
              "V5        0\n",
              "V6        0\n",
              "V7        0\n",
              "V8        0\n",
              "V9        0\n",
              "V10       0\n",
              "V11       0\n",
              "V12       0\n",
              "V13       0\n",
              "V14       0\n",
              "V15       0\n",
              "V16       0\n",
              "V17       0\n",
              "V18       0\n",
              "V19       0\n",
              "V20       0\n",
              "V21       0\n",
              "V22       0\n",
              "V23       0\n",
              "V24       0\n",
              "V25       0\n",
              "V26       0\n",
              "V27       0\n",
              "V28       0\n",
              "Amount    0\n",
              "Class     0\n",
              "dtype: int64"
            ]
          },
          "metadata": {},
          "execution_count": 29
        }
      ],
      "source": [
        "creditCard.isnull().sum() ##currently no missing values now"
      ]
    },
    {
      "cell_type": "code",
      "execution_count": 30,
      "metadata": {
        "id": "Z_V5mx-vVSy9"
      },
      "outputs": [],
      "source": [
        "array = creditCard.values\n",
        "\n",
        "X = array[:,0:30] #X = array[:,0:30] takes the first 30 columns of the  \n",
        "                  #NumPy array array and assigns them to a variable X as the features of the model.\n",
        "Y = array[:,30] #Y takes the 31st column\n",
        "\n",
        "X_train, X_test, y_train, y_test = train_test_split(X, Y, test_size=0.3, stratify=Y)"
      ]
    },
    {
      "cell_type": "markdown",
      "metadata": {
        "id": "PXJD_PZPeIRL"
      },
      "source": [
        "Feature Selection (Importance)\n",
        "Tree-based estimators (see the sklearn.tree module and forest of trees in the sklearn.ensemble module) can be used to compute impurity-based feature importances, which in turn can be used to discard irrelevant features (when coupled with the SelectFromModel meta-transformer):\n",
        "\n",
        "\n"
      ]
    },
    {
      "cell_type": "code",
      "execution_count": 31,
      "metadata": {
        "colab": {
          "base_uri": "https://localhost:8080/"
        },
        "id": "nr_7K4UYeNKR",
        "outputId": "fda9b808-48be-4bc2-d5ab-42aae40bab44"
      },
      "outputs": [
        {
          "output_type": "stream",
          "name": "stdout",
          "text": [
            "[0.01976566 0.01457951 0.02747335 0.02620575 0.04141513 0.01494904\n",
            " 0.01527433 0.05573214 0.01900051 0.08672744 0.06222464 0.0700188\n",
            " 0.08286657 0.01035308 0.08931314 0.01202651 0.05867103 0.08818671\n",
            " 0.05260742 0.01493632 0.01283597 0.02290562 0.01091303 0.00712123\n",
            " 0.01043503 0.0067265  0.02322548 0.01429944 0.01335195 0.01585867]\n"
          ]
        }
      ],
      "source": [
        "# feature extraction\n",
        "clf = ExtraTreesClassifier(n_estimators=10)\n",
        "clf.fit(X, Y)\n",
        "print(clf.feature_importances_)"
      ]
    },
    {
      "cell_type": "markdown",
      "metadata": {
        "id": "qNWQO2TXhU79"
      },
      "source": [
        "Models - Random Forest, K-Nearest-Neighbor, and Logistic Regression. These models will be tested using sklearn library.  X and y receive new values, based on the most representative variables found by Feature Selection."
      ]
    },
    {
      "cell_type": "code",
      "execution_count": 32,
      "metadata": {
        "id": "lhUfI8vDhXcr"
      },
      "outputs": [],
      "source": [
        "array = creditCard.values\n",
        "X = array[:, [17,14,10,12,11]]\n",
        "Y = array[:,30]\n",
        "X_train, X_test, y_train, y_test = train_test_split(X, Y, test_size=0.3, stratify=Y)"
      ]
    },
    {
      "cell_type": "markdown",
      "metadata": {
        "id": "XMTz-0MPkaxU"
      },
      "source": [
        "Creating the knn model and testing it. GridSearch is used to test all values for n_neighbors, and finally we fit the model to the training data."
      ]
    },
    {
      "cell_type": "code",
      "execution_count": 33,
      "metadata": {
        "colab": {
          "base_uri": "https://localhost:8080/"
        },
        "id": "IDTuSpZ7ki5D",
        "outputId": "352fde79-76f8-4b73-fd1f-f729b1f02eeb"
      },
      "outputs": [
        {
          "output_type": "stream",
          "name": "stdout",
          "text": [
            "CPU times: user 1.91 s, sys: 318 ms, total: 2.23 s\n",
            "Wall time: 2min 47s\n"
          ]
        }
      ],
      "source": [
        "knn = KNeighborsClassifier(algorithm='auto')\n",
        "params_knn = {\n",
        "    'n_neighbors': (1,30, 1),\n",
        "    'leaf_size': (20,40,1),\n",
        "    'p': (1,2),\n",
        "    'weights': ('uniform', 'distance'),\n",
        "    'metric': ('minkowski', 'chebyshev')}\n",
        "knn_gs = GridSearchCV(\n",
        "    estimator=knn,\n",
        "    param_grid=params_knn,\n",
        "    scoring = 'accuracy',\n",
        "    n_jobs = -1,\n",
        "    cv = 5)\n",
        "\n",
        "%time knn_gs.fit(X_train, y_train)\n",
        "y_pred = knn_gs.predict(X_test)"
      ]
    },
    {
      "cell_type": "markdown",
      "metadata": {
        "id": "UJtHc4dGlicf"
      },
      "source": [
        "the best model is saved and the best parameters are shown, together with model's Area Under the Curve (AUC)"
      ]
    },
    {
      "cell_type": "code",
      "execution_count": 34,
      "metadata": {
        "colab": {
          "base_uri": "https://localhost:8080/"
        },
        "id": "QImI-KiDlhUM",
        "outputId": "b81ea700-660a-4ccb-f1d5-ee0676a0e605"
      },
      "outputs": [
        {
          "output_type": "stream",
          "name": "stdout",
          "text": [
            "{'leaf_size': 20, 'metric': 'minkowski', 'n_neighbors': 30, 'p': 1, 'weights': 'distance'}\n"
          ]
        }
      ],
      "source": [
        "knn_best = knn_gs.best_estimator_\n",
        "print(knn_gs.best_params_)\n",
        "fpr, tpr, _ = roc_curve(y_test, y_pred)\n",
        "\n",
        "knn_auc = auc(fpr, tpr)"
      ]
    },
    {
      "cell_type": "markdown",
      "source": [
        "Random Forest. I will be creating a Random forest classifier, as I want to test the values. I will be using gridsearch to test the values. "
      ],
      "metadata": {
        "id": "m1UhaAR9k4dN"
      }
    },
    {
      "cell_type": "code",
      "source": [
        "rf = RandomForestClassifier()\n",
        "params_rf = {\"n_estimators\": np.arange(1,30,1)}\n",
        "rf_gs = GridSearchCV(rf, params_rf, cv=5)\n",
        "\n",
        "%time rf_gs.fit(X_train, y_train)\n",
        "y_pred = rf_gs.predict(X_test)"
      ],
      "metadata": {
        "colab": {
          "base_uri": "https://localhost:8080/"
        },
        "id": "niVtRNS5l1n8",
        "outputId": "98dfffd9-e7b7-45fd-c281-942e28d96d69"
      },
      "execution_count": 35,
      "outputs": [
        {
          "output_type": "stream",
          "name": "stdout",
          "text": [
            "CPU times: user 2min 33s, sys: 366 ms, total: 2min 34s\n",
            "Wall time: 2min 35s\n"
          ]
        }
      ]
    },
    {
      "cell_type": "code",
      "source": [
        "rf_best = rf_gs.best_estimator_\n",
        "print(rf_gs.best_params_)\n",
        "\n",
        "fpr, tpr, _ = roc_curve(y_test, y_pred)\n",
        "\n",
        "rf_auc = auc(fpr, tpr) "
      ],
      "metadata": {
        "colab": {
          "base_uri": "https://localhost:8080/"
        },
        "id": "-zP2s_40mBbM",
        "outputId": "d5e42a9b-a81c-4fcb-d2c0-8435a7353b13"
      },
      "execution_count": 36,
      "outputs": [
        {
          "output_type": "stream",
          "name": "stdout",
          "text": [
            "{'n_estimators': 16}\n"
          ]
        }
      ]
    },
    {
      "cell_type": "markdown",
      "source": [
        "Logistic Regression"
      ],
      "metadata": {
        "id": "7HcgrEQS8ENI"
      }
    },
    {
      "cell_type": "code",
      "source": [
        "log_reg = LogisticRegression(max_iter=1000)\n",
        "%time log_reg.fit(X_train, y_train)\n",
        "y_pred = log_reg.predict(X_test)"
      ],
      "metadata": {
        "colab": {
          "base_uri": "https://localhost:8080/"
        },
        "id": "rwbhAdIG781P",
        "outputId": "35badfb4-a175-4d92-bcfa-6207be3f1c37"
      },
      "execution_count": 37,
      "outputs": [
        {
          "output_type": "stream",
          "name": "stdout",
          "text": [
            "CPU times: user 135 ms, sys: 41.1 ms, total: 176 ms\n",
            "Wall time: 166 ms\n"
          ]
        }
      ]
    },
    {
      "cell_type": "code",
      "source": [
        "fpr, tpr, _ = roc_curve(y_test, y_pred)\n",
        "\n",
        "lr_auc = auc(fpr, tpr)"
      ],
      "metadata": {
        "id": "oiARZ3ZS8PQq"
      },
      "execution_count": 38,
      "outputs": []
    },
    {
      "cell_type": "markdown",
      "source": [
        "Ensemble - The whole purpose of this project to combine the supervised algorithms. Voting/stacking classifiers."
      ],
      "metadata": {
        "id": "LRmmLsM0oQXH"
      }
    },
    {
      "cell_type": "code",
      "source": [
        "estimators=[(\"knn\", knn_best), (\"rf\", rf_best), (\"log_reg\", log_reg)]"
      ],
      "metadata": {
        "id": "2LGddzZeo_hi"
      },
      "execution_count": 39,
      "outputs": []
    },
    {
      "cell_type": "markdown",
      "source": [
        "Now Voting Classifier. Trains on an ensemble of numerous models and predicts an output (class) based on their highest probability of chosen class as the output.\n"
      ],
      "metadata": {
        "id": "0mmmz4OkwLm0"
      }
    },
    {
      "cell_type": "code",
      "source": [
        "ensemble_class = VotingClassifier(estimators, voting=\"hard\")\n",
        "\n",
        "ensemble_class.fit(X_train, y_train)\n",
        "\n",
        "ensemble_class.score(X_test, y_test)\n",
        "y_pred = ensemble_class.predict(X_test)"
      ],
      "metadata": {
        "id": "VLQrkTMtwUsb"
      },
      "execution_count": 40,
      "outputs": []
    },
    {
      "cell_type": "markdown",
      "source": [
        "best model is saved and the best parameters are shown, together with model's Area Under the Curve."
      ],
      "metadata": {
        "id": "59mIQdtBx9Ik"
      }
    },
    {
      "cell_type": "code",
      "source": [
        "fpr, tpr, _ = roc_curve(y_test, y_pred)\n",
        "\n",
        "ensemble_class_auc = auc(fpr, tpr) "
      ],
      "metadata": {
        "id": "wYbFWCLQx4cw"
      },
      "execution_count": 41,
      "outputs": []
    },
    {
      "cell_type": "markdown",
      "source": [
        "Stacking Classifier - combines multiple classification models to create one “super” model"
      ],
      "metadata": {
        "id": "tSxkpsymyKW0"
      }
    },
    {
      "cell_type": "code",
      "source": [
        "ensemble_stack = StackingClassifier(estimators=estimators)\n",
        "\n",
        "ensemble_stack.fit(X_train, y_train)\n",
        "\n",
        "ensemble_stack.score(X_test, y_test)\n",
        "y_pred = ensemble_stack.predict(X_test)"
      ],
      "metadata": {
        "id": "u7qK6aH_yDrT"
      },
      "execution_count": 42,
      "outputs": []
    },
    {
      "cell_type": "code",
      "source": [
        "fpr, tpr, _ = roc_curve(y_test, y_pred)\n",
        "\n",
        "ensemble_stack_auc = auc(fpr, tpr)"
      ],
      "metadata": {
        "id": "348oafZpyPP4"
      },
      "execution_count": 43,
      "outputs": []
    },
    {
      "cell_type": "markdown",
      "source": [
        "Model Metrics to see the results shown"
      ],
      "metadata": {
        "id": "ATMfSJhGyZYu"
      }
    },
    {
      "cell_type": "code",
      "source": [
        "print(\"KNN Score: {}\".format(knn_best.score(X_test, y_test)))\n",
        "print(\"RF Score: {}\".format(rf_best.score(X_test, y_test)))\n",
        "print(\"Log_Reg Score: {}\".format(log_reg.score(X_test, y_test)))\n",
        "print(\"Ensemble Voting Score: {}\".format(ensemble_class.score(X_test, y_test)))\n",
        "print(\"Ensemble Stacking Score: {}\".format(ensemble_stack.score(X_test, y_test)))"
      ],
      "metadata": {
        "colab": {
          "base_uri": "https://localhost:8080/"
        },
        "id": "eJi3pz0JydDy",
        "outputId": "29ad644e-bd20-4260-86fb-70ff1412246e"
      },
      "execution_count": 44,
      "outputs": [
        {
          "output_type": "stream",
          "name": "stdout",
          "text": [
            "KNN Score: 0.9993733429742107\n",
            "RF Score: 0.9994215473608098\n",
            "Log_Reg Score: 0.9983610508556279\n",
            "Ensemble Voting Score: 0.9993251385876115\n",
            "Ensemble Stacking Score: 0.9993733429742107\n"
          ]
        }
      ]
    },
    {
      "cell_type": "markdown",
      "source": [
        " using AUC, it is possible to see that the objective was achieved: to find a percentage of precision using only the variables chosen by the Feature Selection (which possibly also decreased overfitting). "
      ],
      "metadata": {
        "id": "UE72lvU9y0yu"
      }
    },
    {
      "cell_type": "code",
      "source": [
        "print(\"KNN AUC: {}\".format(knn_auc))\n",
        "print(\"RF AUC: {}\".format(rf_auc))\n",
        "print(\"Log_Reg AUC: {}\".format(lr_auc))\n",
        "print(\"Ensemble Voting AUC: {}\".format(ensemble_class_auc))\n",
        "print(\"Ensemble Stacking AUC: {}\".format(ensemble_stack_auc))"
      ],
      "metadata": {
        "colab": {
          "base_uri": "https://localhost:8080/"
        },
        "id": "qVeDG12Sy4jB",
        "outputId": "846213b1-574d-4c02-e98a-2e7a2b438fd6"
      },
      "execution_count": 45,
      "outputs": [
        {
          "output_type": "stream",
          "name": "stdout",
          "text": [
            "KNN AUC: 0.9037736655650926\n",
            "RF AUC: 0.9037978283254464\n",
            "Log_Reg AUC: 0.7402154760621392\n",
            "Ensemble Voting AUC: 0.8845670590946771\n",
            "Ensemble Stacking AUC: 0.875\n"
          ]
        }
      ]
    },
    {
      "cell_type": "markdown",
      "source": [
        "Now I will plot the results."
      ],
      "metadata": {
        "id": "VvJEhewlzQH3"
      }
    },
    {
      "cell_type": "code",
      "source": [
        "\n",
        "fig = plt.figure()\n",
        "ax = fig.add_axes([0,0,1,1])\n",
        "models = ['KNN', 'LR', 'Log_Reg', 'Voting', 'Stacking']\n",
        "values = [knn_auc, rf_auc, lr_auc, ensemble_class_auc, ensemble_stack_auc]\n",
        "ax.bar(models, values)\n",
        "plt.show()"
      ],
      "metadata": {
        "colab": {
          "base_uri": "https://localhost:8080/",
          "height": 337
        },
        "id": "srx-62b4zTRv",
        "outputId": "d61f91f7-c212-4ea0-ddbd-f9f0fc2170a0"
      },
      "execution_count": 46,
      "outputs": [
        {
          "output_type": "display_data",
          "data": {
            "text/plain": [
              "<Figure size 432x288 with 1 Axes>"
            ],
            "image/png": "[encoded data removed]"
          },
          "metadata": {
            "needs_background": "light"
          }
        }
      ]
    },
    {
      "cell_type": "markdown",
      "source": [
        "Confussion Metrics"
      ],
      "metadata": {
        "id": "gnsmyHWZzfNm"
      }
    },
    {
      "cell_type": "code",
      "source": [
        "plot_confusion_matrix(knn_gs, X_test, y_test)  \n",
        "plt.show() "
      ],
      "metadata": {
        "colab": {
          "base_uri": "https://localhost:8080/",
          "height": 334
        },
        "id": "T5ru2SzLziwq",
        "outputId": "01f53996-5048-4475-d965-848ade63610c"
      },
      "execution_count": 47,
      "outputs": [
        {
          "output_type": "stream",
          "name": "stderr",
          "text": [
            "/usr/local/lib/python3.8/dist-packages/sklearn/utils/deprecation.py:87: FutureWarning: Function plot_confusion_matrix is deprecated; Function `plot_confusion_matrix` is deprecated in 1.0 and will be removed in 1.2. Use one of the class methods: ConfusionMatrixDisplay.from_predictions or ConfusionMatrixDisplay.from_estimator.\n",
            "  warnings.warn(msg, category=FutureWarning)\n"
          ]
        },
        {
          "output_type": "display_data",
          "data": {
            "text/plain": [
              "<Figure size 432x288 with 2 Axes>"
            ],
            "image/png": "[encoded data removed]"
          },
          "metadata": {
            "needs_background": "light"
          }
        }
      ]
    },
    {
      "cell_type": "code",
      "source": [
        "plot_confusion_matrix(rf_gs, X_test, y_test)  \n",
        "plt.show() "
      ],
      "metadata": {
        "colab": {
          "base_uri": "https://localhost:8080/",
          "height": 334
        },
        "id": "99KghxUTKcnQ",
        "outputId": "a1634648-6f5d-4d31-cdf0-0009502679f4"
      },
      "execution_count": 48,
      "outputs": [
        {
          "output_type": "stream",
          "name": "stderr",
          "text": [
            "/usr/local/lib/python3.8/dist-packages/sklearn/utils/deprecation.py:87: FutureWarning: Function plot_confusion_matrix is deprecated; Function `plot_confusion_matrix` is deprecated in 1.0 and will be removed in 1.2. Use one of the class methods: ConfusionMatrixDisplay.from_predictions or ConfusionMatrixDisplay.from_estimator.\n",
            "  warnings.warn(msg, category=FutureWarning)\n"
          ]
        },
        {
          "output_type": "display_data",
          "data": {
            "text/plain": [
              "<Figure size 432x288 with 2 Axes>"
            ],
            "image/png": "[encoded data removed]"
          },
          "metadata": {
            "needs_background": "light"
          }
        }
      ]
    }
  ],
  "metadata": {
    "colab": {
      "provenance": [],
      "authorship_tag": "ABX9TyPJwIjObLW6QZ42EVyjWoJH",
      "include_colab_link": true
    },
    "kernelspec": {
      "display_name": "Python 3",
      "name": "python3"
    },
    "language_info": {
      "name": "python"
    }
  },
  "nbformat": 4,
  "nbformat_minor": 0
}