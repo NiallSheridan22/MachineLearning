{
  "cells": [
    {
      "cell_type": "markdown",
      "metadata": {
        "id": "view-in-github",
        "colab_type": "text"
      },
      "source": [
        "<a href=\"https://colab.research.google.com/github/NiallSheridan22/MachineLearning/blob/main/EnsembleLearning.ipynb\" target=\"_parent\"><img src=\"https://colab.research.google.com/assets/colab-badge.svg\" alt=\"Open In Colab\"/></a>"
      ]
    },
    {
      "cell_type": "markdown",
      "source": [
        "The goal of this study is to identify the most significant factors for recognizing credit card fraud trends using Feature Selection, and then to assess the effectiveness of several Machine Learning models (using these variables) functioning both independently and together using Ensemble Learning.\n"
      ],
      "metadata": {
        "id": "2_GXV0eNOSnp"
      }
    },
    {
      "cell_type": "markdown",
      "metadata": {
        "id": "7ngEsnne-AI5"
      },
      "source": [
        "Ensemble learning the process by which multiple models, such as classifiers or experts, are strategically generated and combined to solve a particular computational intelligence problem."
      ]
    },
    {
      "cell_type": "code",
      "execution_count": 36,
      "metadata": {
        "id": "wqUQU-DN-Y2X"
      },
      "outputs": [],
      "source": [
        "#Import Libraries that are needed.\n",
        "# Base Libraries\n",
        "import matplotlib.pyplot as plt  \n",
        "import pandas as pd\n",
        "import numpy as np\n",
        "from numpy import set_printoptions\n",
        "from numpy import mean\n",
        "# Models\n",
        "from sklearn.model_selection import train_test_split\n",
        "from sklearn.model_selection import GridSearchCV\n",
        "from sklearn.neighbors import KNeighborsClassifier\n",
        "from sklearn.linear_model import LogisticRegression\n",
        "from sklearn.ensemble import RandomForestClassifier\n",
        "from sklearn.ensemble import ExtraTreesClassifier\n",
        "from sklearn.ensemble import VotingClassifier\n",
        "from sklearn.ensemble import StackingClassifier\n",
        "# Metrics\n",
        "from sklearn.metrics import accuracy_score\n",
        "from sklearn.metrics import auc\n",
        "from sklearn.metrics import roc_curve\n",
        "from sklearn.metrics import plot_confusion_matrix\n",
        "\n"
      ]
    },
    {
      "cell_type": "code",
      "execution_count": null,
      "metadata": {
        "id": "DfzdoBPwUnLE"
      },
      "outputs": [],
      "source": [
        "creditCard = pd.read_csv('./creditcard.csv', sep=',')\n",
        "\n",
        "creditCard.head(10)\n"
      ]
    },
    {
      "cell_type": "code",
      "source": [
        "\n",
        "# Check for duplicates\n",
        "duplicates = creditCard.duplicated()\n",
        "\n",
        "# Print the number of duplicates\n",
        "print(\"Number of duplicates:\", duplicates.sum())\n",
        "\n",
        "# Print the rows that are duplicates\n",
        "print(\"Duplicate rows:\")\n",
        "print(creditCard[duplicates])"
      ],
      "metadata": {
        "id": "fanFWDAsB3cT"
      },
      "execution_count": null,
      "outputs": []
    },
    {
      "cell_type": "markdown",
      "source": [
        "There was 100 duplicates now there is zero after using the drop duplicates."
      ],
      "metadata": {
        "id": "mWlERkr1IU1O"
      }
    },
    {
      "cell_type": "code",
      "source": [
        "creditCard = creditCard.drop_duplicates() ##removing any duplicates\n"
      ],
      "metadata": {
        "id": "atElWoOQH5IP"
      },
      "execution_count": 39,
      "outputs": []
    },
    {
      "cell_type": "markdown",
      "metadata": {
        "id": "ez2XQL18U2nY"
      },
      "source": [
        "I know from the logitic Regression model that the dataset contains times and 28 different refernces regarding customers card consumptions. Next I will split the data into train & test sets. "
      ]
    },
    {
      "cell_type": "code",
      "execution_count": 40,
      "metadata": {
        "colab": {
          "base_uri": "https://localhost:8080/"
        },
        "id": "XAhgAysqdI73",
        "outputId": "c9780058-9930-4b74-8e45-0913b1c85898"
      },
      "outputs": [
        {
          "output_type": "execute_result",
          "data": {
            "text/plain": [
              "Time      0\n",
              "V1        0\n",
              "V2        0\n",
              "V3        0\n",
              "V4        0\n",
              "V5        0\n",
              "V6        0\n",
              "V7        0\n",
              "V8        0\n",
              "V9        0\n",
              "V10       0\n",
              "V11       0\n",
              "V12       0\n",
              "V13       0\n",
              "V14       0\n",
              "V15       0\n",
              "V16       0\n",
              "V17       0\n",
              "V18       0\n",
              "V19       0\n",
              "V20       1\n",
              "V21       1\n",
              "V22       1\n",
              "V23       1\n",
              "V24       1\n",
              "V25       1\n",
              "V26       1\n",
              "V27       1\n",
              "V28       1\n",
              "Amount    1\n",
              "Class     1\n",
              "dtype: int64"
            ]
          },
          "metadata": {},
          "execution_count": 40
        }
      ],
      "source": [
        "creditCard.isnull().sum() ##checking to see if theres missing values in the dataset"
      ]
    },
    {
      "cell_type": "code",
      "execution_count": 41,
      "metadata": {
        "id": "ffH2dRjBdonY"
      },
      "outputs": [],
      "source": [
        "creditCard = creditCard.dropna() ##CreditCard \n",
        "##DataFrame has missing values, I can remove the rows containing missing values \n",
        "##using dropna method of Pandas DataFrame. \n"
      ]
    },
    {
      "cell_type": "code",
      "execution_count": 42,
      "metadata": {
        "colab": {
          "base_uri": "https://localhost:8080/"
        },
        "id": "Ufb4QhnGd-An",
        "outputId": "0d53d849-6718-424f-c5c2-2e952c735d5b"
      },
      "outputs": [
        {
          "output_type": "execute_result",
          "data": {
            "text/plain": [
              "Time      0\n",
              "V1        0\n",
              "V2        0\n",
              "V3        0\n",
              "V4        0\n",
              "V5        0\n",
              "V6        0\n",
              "V7        0\n",
              "V8        0\n",
              "V9        0\n",
              "V10       0\n",
              "V11       0\n",
              "V12       0\n",
              "V13       0\n",
              "V14       0\n",
              "V15       0\n",
              "V16       0\n",
              "V17       0\n",
              "V18       0\n",
              "V19       0\n",
              "V20       0\n",
              "V21       0\n",
              "V22       0\n",
              "V23       0\n",
              "V24       0\n",
              "V25       0\n",
              "V26       0\n",
              "V27       0\n",
              "V28       0\n",
              "Amount    0\n",
              "Class     0\n",
              "dtype: int64"
            ]
          },
          "metadata": {},
          "execution_count": 42
        }
      ],
      "source": [
        "creditCard.isnull().sum() ##currently no missing values now"
      ]
    },
    {
      "cell_type": "code",
      "execution_count": 43,
      "metadata": {
        "id": "Z_V5mx-vVSy9"
      },
      "outputs": [],
      "source": [
        "array = creditCard.values\n",
        "\n",
        "X = array[:,0:30] #X = array[:,0:30] takes the first 30 columns of the  \n",
        "                  #NumPy array array and assigns them to a variable X as the features of the model.\n",
        "Y = array[:,30] #Y takes the 31st column\n",
        "\n",
        "X_train, X_test, y_train, y_test = train_test_split(X, Y, test_size=0.3, stratify=Y)"
      ]
    },
    {
      "cell_type": "markdown",
      "metadata": {
        "id": "PXJD_PZPeIRL"
      },
      "source": [
        "Feature Selection (Importance)\n",
        "Tree-based estimators (see the sklearn.tree module and forest of trees in the sklearn.ensemble module) can be used to compute impurity-based feature importances, which in turn can be used to discard irrelevant features (when coupled with the SelectFromModel meta-transformer):\n",
        "\n",
        "\n"
      ]
    },
    {
      "cell_type": "code",
      "execution_count": 44,
      "metadata": {
        "colab": {
          "base_uri": "https://localhost:8080/"
        },
        "id": "nr_7K4UYeNKR",
        "outputId": "b3befb0a-5dc9-434e-b1a9-72969c69a266"
      },
      "outputs": [
        {
          "output_type": "stream",
          "name": "stdout",
          "text": [
            "[0.01738927 0.01092317 0.00352562 0.1085358  0.06617955 0.01212021\n",
            " 0.0208608  0.01721679 0.00335981 0.05012822 0.04948057 0.18539675\n",
            " 0.05964783 0.0094774  0.14066865 0.00791803 0.01915906 0.07607493\n",
            " 0.01014273 0.01238712 0.01243316 0.02222426 0.0103598  0.00344562\n",
            " 0.01066857 0.00670582 0.0315184  0.00680111 0.0054447  0.00980625]\n"
          ]
        }
      ],
      "source": [
        "# feature extraction\n",
        "clf = ExtraTreesClassifier(n_estimators=10)\n",
        "clf.fit(X, Y)\n",
        "print(clf.feature_importances_)"
      ]
    },
    {
      "cell_type": "markdown",
      "metadata": {
        "id": "qNWQO2TXhU79"
      },
      "source": [
        "Models - Random Forest, K-Nearest-Neighbor, and Logistic Regression. These models will be tested using sklearn library.  X and y receive new values, based on the most representative variables found by Feature Selection."
      ]
    },
    {
      "cell_type": "code",
      "execution_count": 45,
      "metadata": {
        "id": "lhUfI8vDhXcr"
      },
      "outputs": [],
      "source": [
        "array = creditCard.values\n",
        "X = array[:, [17,14,10,12,11]]\n",
        "Y = array[:,30]\n",
        "X_train, X_test, y_train, y_test = train_test_split(X, Y, test_size=0.3, stratify=Y)"
      ]
    },
    {
      "cell_type": "markdown",
      "metadata": {
        "id": "XMTz-0MPkaxU"
      },
      "source": [
        "Creating the knn model and testing it. GridSearch is used to test all values for n_neighbors, and finally we fit the model to the training data."
      ]
    },
    {
      "cell_type": "code",
      "execution_count": 47,
      "metadata": {
        "colab": {
          "base_uri": "https://localhost:8080/"
        },
        "id": "IDTuSpZ7ki5D",
        "outputId": "2aacc58b-1df8-46dc-d3ce-5008940ad46f"
      },
      "outputs": [
        {
          "output_type": "stream",
          "name": "stdout",
          "text": [
            "CPU times: user 553 ms, sys: 68.3 ms, total: 622 ms\n",
            "Wall time: 20.5 s\n"
          ]
        }
      ],
      "source": [
        "knn = KNeighborsClassifier(algorithm='auto')\n",
        "params_knn = {\n",
        "    'n_neighbors': (1,30, 1),\n",
        "    'leaf_size': (20,40,1),\n",
        "    'p': (1,2),\n",
        "    'weights': ('uniform', 'distance'),\n",
        "    'metric': ('minkowski', 'chebyshev')}\n",
        "knn_gs = GridSearchCV(\n",
        "    estimator=knn,\n",
        "    param_grid=params_knn,\n",
        "    scoring = 'accuracy',\n",
        "    n_jobs = -1,\n",
        "    cv = 5)\n",
        "\n",
        "%time knn_gs.fit(X_train, y_train)\n",
        "y_pred = knn_gs.predict(X_test)"
      ]
    },
    {
      "cell_type": "markdown",
      "metadata": {
        "id": "UJtHc4dGlicf"
      },
      "source": [
        "the best model is saved and the best parameters are shown, together with model's Area Under the Curve (AUC)"
      ]
    },
    {
      "cell_type": "code",
      "execution_count": 48,
      "metadata": {
        "colab": {
          "base_uri": "https://localhost:8080/"
        },
        "id": "QImI-KiDlhUM",
        "outputId": "4de2c52c-a6da-405a-9068-d6c9f906ad39"
      },
      "outputs": [
        {
          "output_type": "stream",
          "name": "stdout",
          "text": [
            "{'leaf_size': 20, 'metric': 'minkowski', 'n_neighbors': 1, 'p': 1, 'weights': 'uniform'}\n"
          ]
        }
      ],
      "source": [
        "knn_best = knn_gs.best_estimator_\n",
        "print(knn_gs.best_params_)\n",
        "fpr, tpr, _ = roc_curve(y_test, y_pred)\n",
        "\n",
        "knn_auc = auc(fpr, tpr)"
      ]
    },
    {
      "cell_type": "markdown",
      "source": [
        "Random Forest. I will be creating a Random forest classifier, as I want to test the values. I will be using gridsearch to test the values. "
      ],
      "metadata": {
        "id": "m1UhaAR9k4dN"
      }
    },
    {
      "cell_type": "code",
      "source": [
        "rf = RandomForestClassifier()\n",
        "params_rf = {\"n_estimators\": np.arange(1,30,1)}\n",
        "rf_gs = GridSearchCV(rf, params_rf, cv=5)\n",
        "\n",
        "%time rf_gs.fit(X_train, y_train)\n",
        "y_pred = rf_gs.predict(X_test)"
      ],
      "metadata": {
        "colab": {
          "base_uri": "https://localhost:8080/"
        },
        "id": "niVtRNS5l1n8",
        "outputId": "3ca1f6ea-e37e-46d7-cafb-e91709a985bd"
      },
      "execution_count": 14,
      "outputs": [
        {
          "output_type": "stream",
          "name": "stdout",
          "text": [
            "CPU times: user 7.31 s, sys: 38.6 ms, total: 7.35 s\n",
            "Wall time: 7.37 s\n"
          ]
        }
      ]
    },
    {
      "cell_type": "code",
      "source": [
        "rf_best = rf_gs.best_estimator_\n",
        "print(rf_gs.best_params_)\n",
        "\n",
        "fpr, tpr, _ = roc_curve(y_test, y_pred)\n",
        "\n",
        "rf_auc = auc(fpr, tpr) "
      ],
      "metadata": {
        "colab": {
          "base_uri": "https://localhost:8080/"
        },
        "id": "-zP2s_40mBbM",
        "outputId": "1ef518be-213b-4971-b123-ba71e03da74b"
      },
      "execution_count": 15,
      "outputs": [
        {
          "output_type": "stream",
          "name": "stdout",
          "text": [
            "{'n_estimators': 7}\n"
          ]
        }
      ]
    },
    {
      "cell_type": "markdown",
      "source": [
        "Logistic Regression"
      ],
      "metadata": {
        "id": "7HcgrEQS8ENI"
      }
    },
    {
      "cell_type": "code",
      "source": [
        "log_reg = LogisticRegression(max_iter=1000)\n",
        "%time log_reg.fit(X_train, y_train)\n",
        "y_pred = log_reg.predict(X_test)"
      ],
      "metadata": {
        "colab": {
          "base_uri": "https://localhost:8080/"
        },
        "id": "rwbhAdIG781P",
        "outputId": "88ae8fd9-55f3-4c96-c0d7-422b1bb99002"
      },
      "execution_count": 23,
      "outputs": [
        {
          "output_type": "stream",
          "name": "stdout",
          "text": [
            "CPU times: user 35.4 ms, sys: 59.7 ms, total: 95.1 ms\n",
            "Wall time: 95.9 ms\n"
          ]
        }
      ]
    },
    {
      "cell_type": "code",
      "source": [
        "fpr, tpr, _ = roc_curve(y_test, y_pred)\n",
        "\n",
        "lr_auc = auc(fpr, tpr)"
      ],
      "metadata": {
        "id": "oiARZ3ZS8PQq"
      },
      "execution_count": 24,
      "outputs": []
    },
    {
      "cell_type": "markdown",
      "source": [
        "Ensemble - The whole purpose of this project to combine the supervised algorithms. Voting/stacking classifiers."
      ],
      "metadata": {
        "id": "LRmmLsM0oQXH"
      }
    },
    {
      "cell_type": "code",
      "source": [
        "estimators=[(\"knn\", knn_best), (\"rf\", rf_best), (\"log_reg\", log_reg)]"
      ],
      "metadata": {
        "id": "2LGddzZeo_hi"
      },
      "execution_count": 26,
      "outputs": []
    },
    {
      "cell_type": "markdown",
      "source": [
        "Now Voting Classifier. Trains on an ensemble of numerous models and predicts an output (class) based on their highest probability of chosen class as the output.\n"
      ],
      "metadata": {
        "id": "0mmmz4OkwLm0"
      }
    },
    {
      "cell_type": "code",
      "source": [
        "ensemble_class = VotingClassifier(estimators, voting=\"hard\")\n",
        "\n",
        "ensemble_class.fit(X_train, y_train)\n",
        "\n",
        "ensemble_class.score(X_test, y_test)\n",
        "y_pred = ensemble_class.predict(X_test)"
      ],
      "metadata": {
        "id": "VLQrkTMtwUsb"
      },
      "execution_count": 27,
      "outputs": []
    },
    {
      "cell_type": "markdown",
      "source": [
        "best model is saved and the best parameters are shown, together with model's Area Under the Curve."
      ],
      "metadata": {
        "id": "59mIQdtBx9Ik"
      }
    },
    {
      "cell_type": "code",
      "source": [
        "fpr, tpr, _ = roc_curve(y_test, y_pred)\n",
        "\n",
        "ensemble_class_auc = auc(fpr, tpr) "
      ],
      "metadata": {
        "id": "wYbFWCLQx4cw"
      },
      "execution_count": 28,
      "outputs": []
    },
    {
      "cell_type": "markdown",
      "source": [
        "Stacking Classifier - combines multiple classification models to create one “super” model"
      ],
      "metadata": {
        "id": "tSxkpsymyKW0"
      }
    },
    {
      "cell_type": "code",
      "source": [
        "ensemble_stack = StackingClassifier(estimators=estimators)\n",
        "\n",
        "ensemble_stack.fit(X_train, y_train)\n",
        "\n",
        "ensemble_stack.score(X_test, y_test)\n",
        "y_pred = ensemble_stack.predict(X_test)"
      ],
      "metadata": {
        "id": "u7qK6aH_yDrT"
      },
      "execution_count": 49,
      "outputs": []
    },
    {
      "cell_type": "code",
      "source": [
        "fpr, tpr, _ = roc_curve(y_test, y_pred)\n",
        "\n",
        "ensemble_stack_auc = auc(fpr, tpr)"
      ],
      "metadata": {
        "id": "348oafZpyPP4"
      },
      "execution_count": 50,
      "outputs": []
    },
    {
      "cell_type": "markdown",
      "source": [
        "Model Metrics to see the results shown"
      ],
      "metadata": {
        "id": "ATMfSJhGyZYu"
      }
    },
    {
      "cell_type": "code",
      "source": [
        "print(\"KNN Score: {}\".format(knn_best.score(X_test, y_test)))\n",
        "print(\"RF Score: {}\".format(rf_best.score(X_test, y_test)))\n",
        "print(\"Log_Reg Score: {}\".format(log_reg.score(X_test, y_test)))\n",
        "print(\"Ensemble Voting Score: {}\".format(ensemble_class.score(X_test, y_test)))\n",
        "print(\"Ensemble Stacking Score: {}\".format(ensemble_stack.score(X_test, y_test)))"
      ],
      "metadata": {
        "colab": {
          "base_uri": "https://localhost:8080/"
        },
        "id": "eJi3pz0JydDy",
        "outputId": "d2143e46-35c0-4886-a106-41b89790e2d3"
      },
      "execution_count": 51,
      "outputs": [
        {
          "output_type": "stream",
          "name": "stdout",
          "text": [
            "KNN Score: 0.9986013986013986\n",
            "RF Score: 0.9994405594405594\n",
            "Log_Reg Score: 0.9994405594405594\n",
            "Ensemble Voting Score: 0.9994405594405594\n",
            "Ensemble Stacking Score: 0.9994405594405594\n"
          ]
        }
      ]
    },
    {
      "cell_type": "markdown",
      "source": [
        " using AUC, it is possible to see that the objective was achieved: to find a percentage of precision using only the variables chosen by the Feature Selection (which possibly also decreased overfitting). "
      ],
      "metadata": {
        "id": "UE72lvU9y0yu"
      }
    },
    {
      "cell_type": "code",
      "source": [
        "print(\"KNN AUC: {}\".format(knn_auc))\n",
        "print(\"RF AUC: {}\".format(rf_auc))\n",
        "print(\"Log_Reg AUC: {}\".format(lr_auc))\n",
        "print(\"Ensemble Voting AUC: {}\".format(ensemble_class_auc))\n",
        "print(\"Ensemble Stacking AUC: {}\".format(ensemble_stack_auc))"
      ],
      "metadata": {
        "colab": {
          "base_uri": "https://localhost:8080/"
        },
        "id": "qVeDG12Sy4jB",
        "outputId": "7f088fb0-b92a-4a21-ea28-d52df725167a"
      },
      "execution_count": 52,
      "outputs": [
        {
          "output_type": "stream",
          "name": "stdout",
          "text": [
            "KNN AUC: 0.9681880443944929\n",
            "RF AUC: 0.875\n",
            "Log_Reg AUC: 0.875\n",
            "Ensemble Voting AUC: 0.875\n",
            "Ensemble Stacking AUC: 0.9375\n"
          ]
        }
      ]
    },
    {
      "cell_type": "markdown",
      "source": [
        "Now I will plot the results."
      ],
      "metadata": {
        "id": "VvJEhewlzQH3"
      }
    },
    {
      "cell_type": "code",
      "source": [
        "\n",
        "fig = plt.figure()\n",
        "ax = fig.add_axes([0,0,1,1])\n",
        "models = ['KNN', 'LR', 'Log_Reg', 'Voting', 'Stacking']\n",
        "values = [knn_auc, rf_auc, lr_auc, ensemble_class_auc, ensemble_stack_auc]\n",
        "ax.bar(models, values)\n",
        "plt.show()"
      ],
      "metadata": {
        "colab": {
          "base_uri": "https://localhost:8080/",
          "height": 337
        },
        "id": "srx-62b4zTRv",
        "outputId": "3b307f7d-cc5e-4811-837c-ec1efdea948a"
      },
      "execution_count": 53,
      "outputs": [
        {
          "output_type": "display_data",
          "data": {
            "text/plain": [
              "<Figure size 432x288 with 1 Axes>"
            ],
            "image/png": "[encoded data removed]"
          },
          "metadata": {
            "needs_background": "light"
          }
        }
      ]
    },
    {
      "cell_type": "markdown",
      "source": [
        "Confussion Metrics"
      ],
      "metadata": {
        "id": "gnsmyHWZzfNm"
      }
    },
    {
      "cell_type": "code",
      "source": [
        "plot_confusion_matrix(knn_gs, X_test, y_test)  \n",
        "plt.show() "
      ],
      "metadata": {
        "colab": {
          "base_uri": "https://localhost:8080/",
          "height": 334
        },
        "id": "T5ru2SzLziwq",
        "outputId": "77cf3091-766f-42b5-af88-9fa1460048c1"
      },
      "execution_count": null,
      "outputs": [
        {
          "output_type": "stream",
          "name": "stderr",
          "text": [
            "/usr/local/lib/python3.8/dist-packages/sklearn/utils/deprecation.py:87: FutureWarning: Function plot_confusion_matrix is deprecated; Function `plot_confusion_matrix` is deprecated in 1.0 and will be removed in 1.2. Use one of the class methods: ConfusionMatrixDisplay.from_predictions or ConfusionMatrixDisplay.from_estimator.\n",
            "  warnings.warn(msg, category=FutureWarning)\n"
          ]
        },
        {
          "output_type": "display_data",
          "data": {
            "text/plain": [
              "<Figure size 432x288 with 2 Axes>"
            ],
            "image/png": "[encoded data removed]"
          },
          "metadata": {
            "needs_background": "light"
          }
        }
      ]
    }
  ],
  "metadata": {
    "colab": {
      "provenance": [],
      "authorship_tag": "ABX9TyPgOlklHzCmIqAttDF4vz5E",
      "include_colab_link": true
    },
    "kernelspec": {
      "display_name": "Python 3",
      "name": "python3"
    },
    "language_info": {
      "name": "python"
    }
  },
  "nbformat": 4,
  "nbformat_minor": 0
}