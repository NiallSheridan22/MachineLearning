{
  "nbformat": 4,
  "nbformat_minor": 0,
  "metadata": {
    "colab": {
      "provenance": [],
      "authorship_tag": "ABX9TyP00i0PPE7BWkO4V01J1Xpl",
      "include_colab_link": true
    },
    "kernelspec": {
      "name": "python3",
      "display_name": "Python 3"
    },
    "language_info": {
      "name": "python"
    }
  },
  "cells": [
    {
      "cell_type": "markdown",
      "metadata": {
        "id": "view-in-github",
        "colab_type": "text"
      },
      "source": [
        "<a href=\"https://colab.research.google.com/github/NiallSheridan22/MachineLearning/blob/main/LogisticRegression.ipynb\" target=\"_parent\"><img src=\"https://colab.research.google.com/assets/colab-badge.svg\" alt=\"Open In Colab\"/></a>"
      ]
    },
    {
      "cell_type": "code",
      "execution_count": 3,
      "metadata": {
        "id": "OelvNfombE_C"
      },
      "outputs": [],
      "source": [
        "import pandas as pd\n",
        "import numpy as np\n",
        "from sklearn.model_selection import train_test_split #iMPORT TRAIN allows me to split data and test data\n",
        "from sklearn.linear_model import LogisticRegression  #Model chose is logistic could change it to another model for testing \n",
        "from sklearn.metrics import accuracy_score\n",
        "df = pd.read_csv('creditcard.csv')\n",
        "\n",
        "\n",
        "\n",
        "\n",
        "#SEPERATING DATA FOR LEGIT AND FRAUDLENT\n",
        "legit = df[df.Class == 0]\n",
        "fraud = df[df.Class == 1]"
      ]
    },
    {
      "cell_type": "code",
      "source": [
        "df.isnull().sum() ##checking to see if theres missing values in the dataset"
      ],
      "metadata": {
        "id": "eWPuPNZub210",
        "colab": {
          "base_uri": "https://localhost:8080/"
        },
        "outputId": "aed5a683-d95e-48a2-d7ab-b64287b3a14c"
      },
      "execution_count": null,
      "outputs": [
        {
          "output_type": "execute_result",
          "data": {
            "text/plain": [
              "Time      0\n",
              "V1        0\n",
              "V2        0\n",
              "V3        0\n",
              "V4        0\n",
              "V5        0\n",
              "V6        0\n",
              "V7        0\n",
              "V8        0\n",
              "V9        0\n",
              "V10       0\n",
              "V11       0\n",
              "V12       0\n",
              "V13       0\n",
              "V14       0\n",
              "V15       0\n",
              "V16       0\n",
              "V17       0\n",
              "V18       0\n",
              "V19       0\n",
              "V20       0\n",
              "V21       0\n",
              "V22       0\n",
              "V23       0\n",
              "V24       0\n",
              "V25       0\n",
              "V26       0\n",
              "V27       0\n",
              "V28       0\n",
              "Amount    0\n",
              "Class     0\n",
              "dtype: int64"
            ]
          },
          "metadata": {},
          "execution_count": 6
        }
      ]
    },
    {
      "cell_type": "code",
      "source": [
        "df['Class'].value_counts()  # Fraudlent transaction represents 1 and legit reperesents 0"
      ],
      "metadata": {
        "colab": {
          "base_uri": "https://localhost:8080/"
        },
        "id": "BDKQyKslqtV-",
        "outputId": "520f024c-34c5-4172-ac73-ce732888c159"
      },
      "execution_count": null,
      "outputs": [
        {
          "output_type": "execute_result",
          "data": {
            "text/plain": [
              "0    284315\n",
              "1       492\n",
              "Name: Class, dtype: int64"
            ]
          },
          "metadata": {},
          "execution_count": 7
        }
      ]
    },
    {
      "cell_type": "code",
      "source": [
        "print(legit.shape) #31 colums and the number of transactions"
      ],
      "metadata": {
        "id": "C6Fw2gEIbF2s",
        "colab": {
          "base_uri": "https://localhost:8080/"
        },
        "outputId": "91e9a94c-b2af-4e5e-ac50-2fc8b84d95db"
      },
      "execution_count": null,
      "outputs": [
        {
          "output_type": "stream",
          "name": "stdout",
          "text": [
            "(284315, 31)\n"
          ]
        }
      ]
    },
    {
      "cell_type": "code",
      "source": [
        "print(fraud.shape)  #31 colums and the number of fraudlent transactions"
      ],
      "metadata": {
        "colab": {
          "base_uri": "https://localhost:8080/"
        },
        "id": "cm113bdNeSO4",
        "outputId": "0267dadd-7867-4fcb-d7b1-fbb29b7a293d"
      },
      "execution_count": null,
      "outputs": [
        {
          "output_type": "stream",
          "name": "stdout",
          "text": [
            "(492, 31)\n"
          ]
        }
      ]
    },
    {
      "cell_type": "markdown",
      "source": [],
      "metadata": {
        "id": "LnK37PQHtsIV"
      }
    },
    {
      "cell_type": "code",
      "source": [
        "legit.Amount.describe() #the mean value for legit transaction. Describing the legit transactions."
      ],
      "metadata": {
        "colab": {
          "base_uri": "https://localhost:8080/"
        },
        "id": "UE6FUV6pqFJI",
        "outputId": "0a583f30-55e9-4e50-8be2-0c158442649a"
      },
      "execution_count": null,
      "outputs": [
        {
          "output_type": "execute_result",
          "data": {
            "text/plain": [
              "count    284315.000000\n",
              "mean         88.291022\n",
              "std         250.105092\n",
              "min           0.000000\n",
              "25%           5.650000\n",
              "50%          22.000000\n",
              "75%          77.050000\n",
              "max       25691.160000\n",
              "Name: Amount, dtype: float64"
            ]
          },
          "metadata": {},
          "execution_count": 37
        }
      ]
    },
    {
      "cell_type": "code",
      "source": [
        "fraud.Amount.describe() #the mean value for fraud transaction. Describing the fraudlents transactions"
      ],
      "metadata": {
        "colab": {
          "base_uri": "https://localhost:8080/"
        },
        "id": "tvG-Mv1ctpP2",
        "outputId": "3049661c-653f-428c-f179-87aa53acfd07"
      },
      "execution_count": null,
      "outputs": [
        {
          "output_type": "execute_result",
          "data": {
            "text/plain": [
              "count     492.000000\n",
              "mean      122.211321\n",
              "std       256.683288\n",
              "min         0.000000\n",
              "25%         1.000000\n",
              "50%         9.250000\n",
              "75%       105.890000\n",
              "max      2125.870000\n",
              "Name: Amount, dtype: float64"
            ]
          },
          "metadata": {},
          "execution_count": 38
        }
      ]
    },
    {
      "cell_type": "markdown",
      "source": [],
      "metadata": {
        "id": "4K7vhGf-8pc4"
      }
    },
    {
      "cell_type": "markdown",
      "source": [
        "In the code above that the describes the Amount 25,50 and 75% show the amount spent most of the time."
      ],
      "metadata": {
        "id": "914lceJq8bgT"
      }
    },
    {
      "cell_type": "markdown",
      "source": [
        "So far I have been checking the dataset for missing values and seeing the fraudlent transactions and legit.\n"
      ],
      "metadata": {
        "id": "oWwrXuVfytmD"
      }
    },
    {
      "cell_type": "code",
      "source": [
        "df.groupby('Class').mean() #Zero represents legit and 1 represents 1. In the code I am comparing the values. This difference in the\n",
        "#code is very important to understand what is real and what is fraudlent."
      ],
      "metadata": {
        "colab": {
          "base_uri": "https://localhost:8080/",
          "height": 236
        },
        "id": "EmVBsMoRu0x1",
        "outputId": "b77aa814-8670-4a5f-fd38-7e62ff845f34"
      },
      "execution_count": 4,
      "outputs": [
        {
          "output_type": "execute_result",
          "data": {
            "text/plain": [
              "               Time        V1        V2        V3        V4        V5  \\\n",
              "Class                                                                   \n",
              "0.0    48436.358689 -0.241228 -0.010856  0.692658  0.142703 -0.274972   \n",
              "1.0    41696.459459 -5.665406  3.986162 -7.246458  4.546140 -4.019892   \n",
              "\n",
              "             V6        V7        V8        V9  ...       V20       V21  \\\n",
              "Class                                          ...                       \n",
              "0.0    0.088547 -0.102612  0.058901 -0.079693  ...  0.042431 -0.038775   \n",
              "1.0   -1.498144 -5.995046  1.524421 -2.625621  ...  0.245240  1.274524   \n",
              "\n",
              "            V22       V23       V24       V25       V26       V27       V28  \\\n",
              "Class                                                                         \n",
              "0.0   -0.114708 -0.034517  0.011446  0.130392  0.027474 -0.000328  0.001801   \n",
              "1.0   -0.323077 -0.110412 -0.109276  0.204702  0.061254  0.502860  0.080389   \n",
              "\n",
              "           Amount  \n",
              "Class              \n",
              "0.0     93.489391  \n",
              "1.0    116.936293  \n",
              "\n",
              "[2 rows x 30 columns]"
            ],
            "text/html": [
              "\n",
              "  <div id=\"df-d4fb5b0a-5e0b-4c2f-a370-4faa30d90f26\">\n",
              "    <div class=\"colab-df-container\">\n",
              "      <div>\n",
              "<style scoped>\n",
              "    .dataframe tbody tr th:only-of-type {\n",
              "        vertical-align: middle;\n",
              "    }\n",
              "\n",
              "    .dataframe tbody tr th {\n",
              "        vertical-align: top;\n",
              "    }\n",
              "\n",
              "    .dataframe thead th {\n",
              "        text-align: right;\n",
              "    }\n",
              "</style>\n",
              "<table border=\"1\" class=\"dataframe\">\n",
              "  <thead>\n",
              "    <tr style=\"text-align: right;\">\n",
              "      <th></th>\n",
              "      <th>Time</th>\n",
              "      <th>V1</th>\n",
              "      <th>V2</th>\n",
              "      <th>V3</th>\n",
              "      <th>V4</th>\n",
              "      <th>V5</th>\n",
              "      <th>V6</th>\n",
              "      <th>V7</th>\n",
              "      <th>V8</th>\n",
              "      <th>V9</th>\n",
              "      <th>...</th>\n",
              "      <th>V20</th>\n",
              "      <th>V21</th>\n",
              "      <th>V22</th>\n",
              "      <th>V23</th>\n",
              "      <th>V24</th>\n",
              "      <th>V25</th>\n",
              "      <th>V26</th>\n",
              "      <th>V27</th>\n",
              "      <th>V28</th>\n",
              "      <th>Amount</th>\n",
              "    </tr>\n",
              "    <tr>\n",
              "      <th>Class</th>\n",
              "      <th></th>\n",
              "      <th></th>\n",
              "      <th></th>\n",
              "      <th></th>\n",
              "      <th></th>\n",
              "      <th></th>\n",
              "      <th></th>\n",
              "      <th></th>\n",
              "      <th></th>\n",
              "      <th></th>\n",
              "      <th></th>\n",
              "      <th></th>\n",
              "      <th></th>\n",
              "      <th></th>\n",
              "      <th></th>\n",
              "      <th></th>\n",
              "      <th></th>\n",
              "      <th></th>\n",
              "      <th></th>\n",
              "      <th></th>\n",
              "      <th></th>\n",
              "    </tr>\n",
              "  </thead>\n",
              "  <tbody>\n",
              "    <tr>\n",
              "      <th>0.0</th>\n",
              "      <td>48436.358689</td>\n",
              "      <td>-0.241228</td>\n",
              "      <td>-0.010856</td>\n",
              "      <td>0.692658</td>\n",
              "      <td>0.142703</td>\n",
              "      <td>-0.274972</td>\n",
              "      <td>0.088547</td>\n",
              "      <td>-0.102612</td>\n",
              "      <td>0.058901</td>\n",
              "      <td>-0.079693</td>\n",
              "      <td>...</td>\n",
              "      <td>0.042431</td>\n",
              "      <td>-0.038775</td>\n",
              "      <td>-0.114708</td>\n",
              "      <td>-0.034517</td>\n",
              "      <td>0.011446</td>\n",
              "      <td>0.130392</td>\n",
              "      <td>0.027474</td>\n",
              "      <td>-0.000328</td>\n",
              "      <td>0.001801</td>\n",
              "      <td>93.489391</td>\n",
              "    </tr>\n",
              "    <tr>\n",
              "      <th>1.0</th>\n",
              "      <td>41696.459459</td>\n",
              "      <td>-5.665406</td>\n",
              "      <td>3.986162</td>\n",
              "      <td>-7.246458</td>\n",
              "      <td>4.546140</td>\n",
              "      <td>-4.019892</td>\n",
              "      <td>-1.498144</td>\n",
              "      <td>-5.995046</td>\n",
              "      <td>1.524421</td>\n",
              "      <td>-2.625621</td>\n",
              "      <td>...</td>\n",
              "      <td>0.245240</td>\n",
              "      <td>1.274524</td>\n",
              "      <td>-0.323077</td>\n",
              "      <td>-0.110412</td>\n",
              "      <td>-0.109276</td>\n",
              "      <td>0.204702</td>\n",
              "      <td>0.061254</td>\n",
              "      <td>0.502860</td>\n",
              "      <td>0.080389</td>\n",
              "      <td>116.936293</td>\n",
              "    </tr>\n",
              "  </tbody>\n",
              "</table>\n",
              "<p>2 rows × 30 columns</p>\n",
              "</div>\n",
              "      <button class=\"colab-df-convert\" onclick=\"convertToInteractive('df-d4fb5b0a-5e0b-4c2f-a370-4faa30d90f26')\"\n",
              "              title=\"Convert this dataframe to an interactive table.\"\n",
              "              style=\"display:none;\">\n",
              "        \n",
              "  <svg xmlns=\"http://www.w3.org/2000/svg\" height=\"24px\"viewBox=\"0 0 24 24\"\n",
              "       width=\"24px\">\n",
              "    <path d=\"M0 0h24v24H0V0z\" fill=\"none\"/>\n",
              "    <path d=\"M18.56 5.44l.94 2.06.94-2.06 2.06-.94-2.06-.94-.94-2.06-.94 2.06-2.06.94zm-11 1L8.5 8.5l.94-2.06 2.06-.94-2.06-.94L8.5 2.5l-.94 2.06-2.06.94zm10 10l.94 2.06.94-2.06 2.06-.94-2.06-.94-.94-2.06-.94 2.06-2.06.94z\"/><path d=\"M17.41 7.96l-1.37-1.37c-.4-.4-.92-.59-1.43-.59-.52 0-1.04.2-1.43.59L10.3 9.45l-7.72 7.72c-.78.78-.78 2.05 0 2.83L4 21.41c.39.39.9.59 1.41.59.51 0 1.02-.2 1.41-.59l7.78-7.78 2.81-2.81c.8-.78.8-2.07 0-2.86zM5.41 20L4 18.59l7.72-7.72 1.47 1.35L5.41 20z\"/>\n",
              "  </svg>\n",
              "      </button>\n",
              "      \n",
              "  <style>\n",
              "    .colab-df-container {\n",
              "      display:flex;\n",
              "      flex-wrap:wrap;\n",
              "      gap: 12px;\n",
              "    }\n",
              "\n",
              "    .colab-df-convert {\n",
              "      background-color: #E8F0FE;\n",
              "      border: none;\n",
              "      border-radius: 50%;\n",
              "      cursor: pointer;\n",
              "      display: none;\n",
              "      fill: #1967D2;\n",
              "      height: 32px;\n",
              "      padding: 0 0 0 0;\n",
              "      width: 32px;\n",
              "    }\n",
              "\n",
              "    .colab-df-convert:hover {\n",
              "      background-color: #E2EBFA;\n",
              "      box-shadow: 0px 1px 2px rgba(60, 64, 67, 0.3), 0px 1px 3px 1px rgba(60, 64, 67, 0.15);\n",
              "      fill: #174EA6;\n",
              "    }\n",
              "\n",
              "    [theme=dark] .colab-df-convert {\n",
              "      background-color: #3B4455;\n",
              "      fill: #D2E3FC;\n",
              "    }\n",
              "\n",
              "    [theme=dark] .colab-df-convert:hover {\n",
              "      background-color: #434B5C;\n",
              "      box-shadow: 0px 1px 3px 1px rgba(0, 0, 0, 0.15);\n",
              "      filter: drop-shadow(0px 1px 2px rgba(0, 0, 0, 0.3));\n",
              "      fill: #FFFFFF;\n",
              "    }\n",
              "  </style>\n",
              "\n",
              "      <script>\n",
              "        const buttonEl =\n",
              "          document.querySelector('#df-d4fb5b0a-5e0b-4c2f-a370-4faa30d90f26 button.colab-df-convert');\n",
              "        buttonEl.style.display =\n",
              "          google.colab.kernel.accessAllowed ? 'block' : 'none';\n",
              "\n",
              "        async function convertToInteractive(key) {\n",
              "          const element = document.querySelector('#df-d4fb5b0a-5e0b-4c2f-a370-4faa30d90f26');\n",
              "          const dataTable =\n",
              "            await google.colab.kernel.invokeFunction('convertToInteractive',\n",
              "                                                     [key], {});\n",
              "          if (!dataTable) return;\n",
              "\n",
              "          const docLinkHtml = 'Like what you see? Visit the ' +\n",
              "            '<a target=\"_blank\" href=https://colab.research.google.com/notebooks/data_table.ipynb>data table notebook</a>'\n",
              "            + ' to learn more about interactive tables.';\n",
              "          element.innerHTML = '';\n",
              "          dataTable['output_type'] = 'display_data';\n",
              "          await google.colab.output.renderOutput(dataTable, element);\n",
              "          const docLink = document.createElement('div');\n",
              "          docLink.innerHTML = docLinkHtml;\n",
              "          element.appendChild(docLink);\n",
              "        }\n",
              "      </script>\n",
              "    </div>\n",
              "  </div>\n",
              "  "
            ]
          },
          "metadata": {},
          "execution_count": 4
        }
      ]
    },
    {
      "cell_type": "markdown",
      "source": [],
      "metadata": {
        "id": "isp4mk209PVF"
      }
    },
    {
      "cell_type": "markdown",
      "source": [
        "Now I will make a sample dataset that will have a similiar distribution of normal transactions and fraud transactions\n",
        "The fraud transactions from aboves code was equal to - 492"
      ],
      "metadata": {
        "id": "LiNaP3D-DDwu"
      }
    },
    {
      "cell_type": "code",
      "source": [
        "# compare the values for both transactions\n",
        "df.groupby('Class').mean()"
      ],
      "metadata": {
        "colab": {
          "base_uri": "https://localhost:8080/",
          "height": 236
        },
        "id": "Tudm3doJOzJO",
        "outputId": "081faa17-a9a1-4ce9-d5b3-13f070581cea"
      },
      "execution_count": 6,
      "outputs": [
        {
          "output_type": "execute_result",
          "data": {
            "text/plain": [
              "               Time        V1        V2        V3        V4        V5  \\\n",
              "Class                                                                   \n",
              "0.0    48436.358689 -0.241228 -0.010856  0.692658  0.142703 -0.274972   \n",
              "1.0    41696.459459 -5.665406  3.986162 -7.246458  4.546140 -4.019892   \n",
              "\n",
              "             V6        V7        V8        V9  ...       V20       V21  \\\n",
              "Class                                          ...                       \n",
              "0.0    0.088547 -0.102612  0.058901 -0.079693  ...  0.042431 -0.038775   \n",
              "1.0   -1.498144 -5.995046  1.524421 -2.625621  ...  0.245240  1.274524   \n",
              "\n",
              "            V22       V23       V24       V25       V26       V27       V28  \\\n",
              "Class                                                                         \n",
              "0.0   -0.114708 -0.034517  0.011446  0.130392  0.027474 -0.000328  0.001801   \n",
              "1.0   -0.323077 -0.110412 -0.109276  0.204702  0.061254  0.502860  0.080389   \n",
              "\n",
              "           Amount  \n",
              "Class              \n",
              "0.0     93.489391  \n",
              "1.0    116.936293  \n",
              "\n",
              "[2 rows x 30 columns]"
            ],
            "text/html": [
              "\n",
              "  <div id=\"df-9840e1a1-58d5-4aa0-8564-4af956964f57\">\n",
              "    <div class=\"colab-df-container\">\n",
              "      <div>\n",
              "<style scoped>\n",
              "    .dataframe tbody tr th:only-of-type {\n",
              "        vertical-align: middle;\n",
              "    }\n",
              "\n",
              "    .dataframe tbody tr th {\n",
              "        vertical-align: top;\n",
              "    }\n",
              "\n",
              "    .dataframe thead th {\n",
              "        text-align: right;\n",
              "    }\n",
              "</style>\n",
              "<table border=\"1\" class=\"dataframe\">\n",
              "  <thead>\n",
              "    <tr style=\"text-align: right;\">\n",
              "      <th></th>\n",
              "      <th>Time</th>\n",
              "      <th>V1</th>\n",
              "      <th>V2</th>\n",
              "      <th>V3</th>\n",
              "      <th>V4</th>\n",
              "      <th>V5</th>\n",
              "      <th>V6</th>\n",
              "      <th>V7</th>\n",
              "      <th>V8</th>\n",
              "      <th>V9</th>\n",
              "      <th>...</th>\n",
              "      <th>V20</th>\n",
              "      <th>V21</th>\n",
              "      <th>V22</th>\n",
              "      <th>V23</th>\n",
              "      <th>V24</th>\n",
              "      <th>V25</th>\n",
              "      <th>V26</th>\n",
              "      <th>V27</th>\n",
              "      <th>V28</th>\n",
              "      <th>Amount</th>\n",
              "    </tr>\n",
              "    <tr>\n",
              "      <th>Class</th>\n",
              "      <th></th>\n",
              "      <th></th>\n",
              "      <th></th>\n",
              "      <th></th>\n",
              "      <th></th>\n",
              "      <th></th>\n",
              "      <th></th>\n",
              "      <th></th>\n",
              "      <th></th>\n",
              "      <th></th>\n",
              "      <th></th>\n",
              "      <th></th>\n",
              "      <th></th>\n",
              "      <th></th>\n",
              "      <th></th>\n",
              "      <th></th>\n",
              "      <th></th>\n",
              "      <th></th>\n",
              "      <th></th>\n",
              "      <th></th>\n",
              "      <th></th>\n",
              "    </tr>\n",
              "  </thead>\n",
              "  <tbody>\n",
              "    <tr>\n",
              "      <th>0.0</th>\n",
              "      <td>48436.358689</td>\n",
              "      <td>-0.241228</td>\n",
              "      <td>-0.010856</td>\n",
              "      <td>0.692658</td>\n",
              "      <td>0.142703</td>\n",
              "      <td>-0.274972</td>\n",
              "      <td>0.088547</td>\n",
              "      <td>-0.102612</td>\n",
              "      <td>0.058901</td>\n",
              "      <td>-0.079693</td>\n",
              "      <td>...</td>\n",
              "      <td>0.042431</td>\n",
              "      <td>-0.038775</td>\n",
              "      <td>-0.114708</td>\n",
              "      <td>-0.034517</td>\n",
              "      <td>0.011446</td>\n",
              "      <td>0.130392</td>\n",
              "      <td>0.027474</td>\n",
              "      <td>-0.000328</td>\n",
              "      <td>0.001801</td>\n",
              "      <td>93.489391</td>\n",
              "    </tr>\n",
              "    <tr>\n",
              "      <th>1.0</th>\n",
              "      <td>41696.459459</td>\n",
              "      <td>-5.665406</td>\n",
              "      <td>3.986162</td>\n",
              "      <td>-7.246458</td>\n",
              "      <td>4.546140</td>\n",
              "      <td>-4.019892</td>\n",
              "      <td>-1.498144</td>\n",
              "      <td>-5.995046</td>\n",
              "      <td>1.524421</td>\n",
              "      <td>-2.625621</td>\n",
              "      <td>...</td>\n",
              "      <td>0.245240</td>\n",
              "      <td>1.274524</td>\n",
              "      <td>-0.323077</td>\n",
              "      <td>-0.110412</td>\n",
              "      <td>-0.109276</td>\n",
              "      <td>0.204702</td>\n",
              "      <td>0.061254</td>\n",
              "      <td>0.502860</td>\n",
              "      <td>0.080389</td>\n",
              "      <td>116.936293</td>\n",
              "    </tr>\n",
              "  </tbody>\n",
              "</table>\n",
              "<p>2 rows × 30 columns</p>\n",
              "</div>\n",
              "      <button class=\"colab-df-convert\" onclick=\"convertToInteractive('df-9840e1a1-58d5-4aa0-8564-4af956964f57')\"\n",
              "              title=\"Convert this dataframe to an interactive table.\"\n",
              "              style=\"display:none;\">\n",
              "        \n",
              "  <svg xmlns=\"http://www.w3.org/2000/svg\" height=\"24px\"viewBox=\"0 0 24 24\"\n",
              "       width=\"24px\">\n",
              "    <path d=\"M0 0h24v24H0V0z\" fill=\"none\"/>\n",
              "    <path d=\"M18.56 5.44l.94 2.06.94-2.06 2.06-.94-2.06-.94-.94-2.06-.94 2.06-2.06.94zm-11 1L8.5 8.5l.94-2.06 2.06-.94-2.06-.94L8.5 2.5l-.94 2.06-2.06.94zm10 10l.94 2.06.94-2.06 2.06-.94-2.06-.94-.94-2.06-.94 2.06-2.06.94z\"/><path d=\"M17.41 7.96l-1.37-1.37c-.4-.4-.92-.59-1.43-.59-.52 0-1.04.2-1.43.59L10.3 9.45l-7.72 7.72c-.78.78-.78 2.05 0 2.83L4 21.41c.39.39.9.59 1.41.59.51 0 1.02-.2 1.41-.59l7.78-7.78 2.81-2.81c.8-.78.8-2.07 0-2.86zM5.41 20L4 18.59l7.72-7.72 1.47 1.35L5.41 20z\"/>\n",
              "  </svg>\n",
              "      </button>\n",
              "      \n",
              "  <style>\n",
              "    .colab-df-container {\n",
              "      display:flex;\n",
              "      flex-wrap:wrap;\n",
              "      gap: 12px;\n",
              "    }\n",
              "\n",
              "    .colab-df-convert {\n",
              "      background-color: #E8F0FE;\n",
              "      border: none;\n",
              "      border-radius: 50%;\n",
              "      cursor: pointer;\n",
              "      display: none;\n",
              "      fill: #1967D2;\n",
              "      height: 32px;\n",
              "      padding: 0 0 0 0;\n",
              "      width: 32px;\n",
              "    }\n",
              "\n",
              "    .colab-df-convert:hover {\n",
              "      background-color: #E2EBFA;\n",
              "      box-shadow: 0px 1px 2px rgba(60, 64, 67, 0.3), 0px 1px 3px 1px rgba(60, 64, 67, 0.15);\n",
              "      fill: #174EA6;\n",
              "    }\n",
              "\n",
              "    [theme=dark] .colab-df-convert {\n",
              "      background-color: #3B4455;\n",
              "      fill: #D2E3FC;\n",
              "    }\n",
              "\n",
              "    [theme=dark] .colab-df-convert:hover {\n",
              "      background-color: #434B5C;\n",
              "      box-shadow: 0px 1px 3px 1px rgba(0, 0, 0, 0.15);\n",
              "      filter: drop-shadow(0px 1px 2px rgba(0, 0, 0, 0.3));\n",
              "      fill: #FFFFFF;\n",
              "    }\n",
              "  </style>\n",
              "\n",
              "      <script>\n",
              "        const buttonEl =\n",
              "          document.querySelector('#df-9840e1a1-58d5-4aa0-8564-4af956964f57 button.colab-df-convert');\n",
              "        buttonEl.style.display =\n",
              "          google.colab.kernel.accessAllowed ? 'block' : 'none';\n",
              "\n",
              "        async function convertToInteractive(key) {\n",
              "          const element = document.querySelector('#df-9840e1a1-58d5-4aa0-8564-4af956964f57');\n",
              "          const dataTable =\n",
              "            await google.colab.kernel.invokeFunction('convertToInteractive',\n",
              "                                                     [key], {});\n",
              "          if (!dataTable) return;\n",
              "\n",
              "          const docLinkHtml = 'Like what you see? Visit the ' +\n",
              "            '<a target=\"_blank\" href=https://colab.research.google.com/notebooks/data_table.ipynb>data table notebook</a>'\n",
              "            + ' to learn more about interactive tables.';\n",
              "          element.innerHTML = '';\n",
              "          dataTable['output_type'] = 'display_data';\n",
              "          await google.colab.output.renderOutput(dataTable, element);\n",
              "          const docLink = document.createElement('div');\n",
              "          docLink.innerHTML = docLinkHtml;\n",
              "          element.appendChild(docLink);\n",
              "        }\n",
              "      </script>\n",
              "    </div>\n",
              "  </div>\n",
              "  "
            ]
          },
          "metadata": {},
          "execution_count": 6
        }
      ]
    },
    {
      "cell_type": "code",
      "source": [
        "legit_sample = legit.sample(n=492)"
      ],
      "metadata": {
        "id": "C8sjqEUADcCV"
      },
      "execution_count": 7,
      "outputs": []
    },
    {
      "cell_type": "markdown",
      "source": [
        "Concatinate the datasets"
      ],
      "metadata": {
        "id": "fe18vtjYLdVS"
      }
    },
    {
      "cell_type": "code",
      "source": [
        "myNew_dataset = pd.concat([legit_sample, fraud], axis=0)"
      ],
      "metadata": {
        "id": "I7T-_GS1LX2l"
      },
      "execution_count": 8,
      "outputs": []
    },
    {
      "cell_type": "code",
      "source": [
        "myNew_dataset.head()  #check first 5 values"
      ],
      "metadata": {
        "colab": {
          "base_uri": "https://localhost:8080/",
          "height": 299
        },
        "id": "bnYGRtCLMAna",
        "outputId": "02383aba-74cb-49d9-8018-fe2089f8c740"
      },
      "execution_count": null,
      "outputs": [
        {
          "output_type": "execute_result",
          "data": {
            "text/plain": [
              "            Time        V1        V2        V3        V4        V5        V6  \\\n",
              "15559    26954.0  1.120134 -0.253048 -0.661769 -0.374841  0.254563 -0.373008   \n",
              "258602  158728.0 -0.699293  0.028394  0.762429 -3.522413 -0.799274 -0.489336   \n",
              "90103    62865.0 -0.817735  0.793238  0.365173 -2.623895 -0.403762 -0.561723   \n",
              "62922    50476.0  1.538247 -0.842887 -0.189669 -1.322174 -1.169558 -1.357057   \n",
              "99592    67191.0 -1.174768  2.086937  0.360771 -1.361323 -2.101499 -0.106638   \n",
              "\n",
              "              V7        V8        V9  ...       V21       V22       V23  \\\n",
              "15559   0.449277 -0.187092 -0.296119  ... -0.331375 -1.281686 -0.118043   \n",
              "258602 -0.359025  0.342577  0.285958  ... -0.403750 -0.632314  0.090350   \n",
              "90103  -0.044210 -0.587514  1.521684  ...  0.816499  0.161116 -0.289565   \n",
              "62922  -0.453642 -0.405969 -2.147050  ... -0.169571 -0.127833 -0.086806   \n",
              "99592   1.420917  0.600048 -0.400401  ... -0.255177 -0.258530  0.271069   \n",
              "\n",
              "             V24       V25       V26       V27       V28  Amount  Class  \n",
              "15559  -0.785132  0.295756  0.776908 -0.136200 -0.001234  129.00      0  \n",
              "258602  0.561725 -0.178489 -1.061381 -0.010622  0.081478   13.05      0  \n",
              "90103  -0.377917  0.668308 -0.665941 -0.111445 -0.041977    9.95      0  \n",
              "62922   0.387284  0.665389 -0.083602 -0.007557  0.007877   25.00      0  \n",
              "99592   0.442735 -0.297526  0.714285  0.466698 -0.041998  329.00      0  \n",
              "\n",
              "[5 rows x 31 columns]"
            ],
            "text/html": [
              "\n",
              "  <div id=\"df-437c95ff-52c3-42fc-b4c1-8d865e46e330\">\n",
              "    <div class=\"colab-df-container\">\n",
              "      <div>\n",
              "<style scoped>\n",
              "    .dataframe tbody tr th:only-of-type {\n",
              "        vertical-align: middle;\n",
              "    }\n",
              "\n",
              "    .dataframe tbody tr th {\n",
              "        vertical-align: top;\n",
              "    }\n",
              "\n",
              "    .dataframe thead th {\n",
              "        text-align: right;\n",
              "    }\n",
              "</style>\n",
              "<table border=\"1\" class=\"dataframe\">\n",
              "  <thead>\n",
              "    <tr style=\"text-align: right;\">\n",
              "      <th></th>\n",
              "      <th>Time</th>\n",
              "      <th>V1</th>\n",
              "      <th>V2</th>\n",
              "      <th>V3</th>\n",
              "      <th>V4</th>\n",
              "      <th>V5</th>\n",
              "      <th>V6</th>\n",
              "      <th>V7</th>\n",
              "      <th>V8</th>\n",
              "      <th>V9</th>\n",
              "      <th>...</th>\n",
              "      <th>V21</th>\n",
              "      <th>V22</th>\n",
              "      <th>V23</th>\n",
              "      <th>V24</th>\n",
              "      <th>V25</th>\n",
              "      <th>V26</th>\n",
              "      <th>V27</th>\n",
              "      <th>V28</th>\n",
              "      <th>Amount</th>\n",
              "      <th>Class</th>\n",
              "    </tr>\n",
              "  </thead>\n",
              "  <tbody>\n",
              "    <tr>\n",
              "      <th>15559</th>\n",
              "      <td>26954.0</td>\n",
              "      <td>1.120134</td>\n",
              "      <td>-0.253048</td>\n",
              "      <td>-0.661769</td>\n",
              "      <td>-0.374841</td>\n",
              "      <td>0.254563</td>\n",
              "      <td>-0.373008</td>\n",
              "      <td>0.449277</td>\n",
              "      <td>-0.187092</td>\n",
              "      <td>-0.296119</td>\n",
              "      <td>...</td>\n",
              "      <td>-0.331375</td>\n",
              "      <td>-1.281686</td>\n",
              "      <td>-0.118043</td>\n",
              "      <td>-0.785132</td>\n",
              "      <td>0.295756</td>\n",
              "      <td>0.776908</td>\n",
              "      <td>-0.136200</td>\n",
              "      <td>-0.001234</td>\n",
              "      <td>129.00</td>\n",
              "      <td>0</td>\n",
              "    </tr>\n",
              "    <tr>\n",
              "      <th>258602</th>\n",
              "      <td>158728.0</td>\n",
              "      <td>-0.699293</td>\n",
              "      <td>0.028394</td>\n",
              "      <td>0.762429</td>\n",
              "      <td>-3.522413</td>\n",
              "      <td>-0.799274</td>\n",
              "      <td>-0.489336</td>\n",
              "      <td>-0.359025</td>\n",
              "      <td>0.342577</td>\n",
              "      <td>0.285958</td>\n",
              "      <td>...</td>\n",
              "      <td>-0.403750</td>\n",
              "      <td>-0.632314</td>\n",
              "      <td>0.090350</td>\n",
              "      <td>0.561725</td>\n",
              "      <td>-0.178489</td>\n",
              "      <td>-1.061381</td>\n",
              "      <td>-0.010622</td>\n",
              "      <td>0.081478</td>\n",
              "      <td>13.05</td>\n",
              "      <td>0</td>\n",
              "    </tr>\n",
              "    <tr>\n",
              "      <th>90103</th>\n",
              "      <td>62865.0</td>\n",
              "      <td>-0.817735</td>\n",
              "      <td>0.793238</td>\n",
              "      <td>0.365173</td>\n",
              "      <td>-2.623895</td>\n",
              "      <td>-0.403762</td>\n",
              "      <td>-0.561723</td>\n",
              "      <td>-0.044210</td>\n",
              "      <td>-0.587514</td>\n",
              "      <td>1.521684</td>\n",
              "      <td>...</td>\n",
              "      <td>0.816499</td>\n",
              "      <td>0.161116</td>\n",
              "      <td>-0.289565</td>\n",
              "      <td>-0.377917</td>\n",
              "      <td>0.668308</td>\n",
              "      <td>-0.665941</td>\n",
              "      <td>-0.111445</td>\n",
              "      <td>-0.041977</td>\n",
              "      <td>9.95</td>\n",
              "      <td>0</td>\n",
              "    </tr>\n",
              "    <tr>\n",
              "      <th>62922</th>\n",
              "      <td>50476.0</td>\n",
              "      <td>1.538247</td>\n",
              "      <td>-0.842887</td>\n",
              "      <td>-0.189669</td>\n",
              "      <td>-1.322174</td>\n",
              "      <td>-1.169558</td>\n",
              "      <td>-1.357057</td>\n",
              "      <td>-0.453642</td>\n",
              "      <td>-0.405969</td>\n",
              "      <td>-2.147050</td>\n",
              "      <td>...</td>\n",
              "      <td>-0.169571</td>\n",
              "      <td>-0.127833</td>\n",
              "      <td>-0.086806</td>\n",
              "      <td>0.387284</td>\n",
              "      <td>0.665389</td>\n",
              "      <td>-0.083602</td>\n",
              "      <td>-0.007557</td>\n",
              "      <td>0.007877</td>\n",
              "      <td>25.00</td>\n",
              "      <td>0</td>\n",
              "    </tr>\n",
              "    <tr>\n",
              "      <th>99592</th>\n",
              "      <td>67191.0</td>\n",
              "      <td>-1.174768</td>\n",
              "      <td>2.086937</td>\n",
              "      <td>0.360771</td>\n",
              "      <td>-1.361323</td>\n",
              "      <td>-2.101499</td>\n",
              "      <td>-0.106638</td>\n",
              "      <td>1.420917</td>\n",
              "      <td>0.600048</td>\n",
              "      <td>-0.400401</td>\n",
              "      <td>...</td>\n",
              "      <td>-0.255177</td>\n",
              "      <td>-0.258530</td>\n",
              "      <td>0.271069</td>\n",
              "      <td>0.442735</td>\n",
              "      <td>-0.297526</td>\n",
              "      <td>0.714285</td>\n",
              "      <td>0.466698</td>\n",
              "      <td>-0.041998</td>\n",
              "      <td>329.00</td>\n",
              "      <td>0</td>\n",
              "    </tr>\n",
              "  </tbody>\n",
              "</table>\n",
              "<p>5 rows × 31 columns</p>\n",
              "</div>\n",
              "      <button class=\"colab-df-convert\" onclick=\"convertToInteractive('df-437c95ff-52c3-42fc-b4c1-8d865e46e330')\"\n",
              "              title=\"Convert this dataframe to an interactive table.\"\n",
              "              style=\"display:none;\">\n",
              "        \n",
              "  <svg xmlns=\"http://www.w3.org/2000/svg\" height=\"24px\"viewBox=\"0 0 24 24\"\n",
              "       width=\"24px\">\n",
              "    <path d=\"M0 0h24v24H0V0z\" fill=\"none\"/>\n",
              "    <path d=\"M18.56 5.44l.94 2.06.94-2.06 2.06-.94-2.06-.94-.94-2.06-.94 2.06-2.06.94zm-11 1L8.5 8.5l.94-2.06 2.06-.94-2.06-.94L8.5 2.5l-.94 2.06-2.06.94zm10 10l.94 2.06.94-2.06 2.06-.94-2.06-.94-.94-2.06-.94 2.06-2.06.94z\"/><path d=\"M17.41 7.96l-1.37-1.37c-.4-.4-.92-.59-1.43-.59-.52 0-1.04.2-1.43.59L10.3 9.45l-7.72 7.72c-.78.78-.78 2.05 0 2.83L4 21.41c.39.39.9.59 1.41.59.51 0 1.02-.2 1.41-.59l7.78-7.78 2.81-2.81c.8-.78.8-2.07 0-2.86zM5.41 20L4 18.59l7.72-7.72 1.47 1.35L5.41 20z\"/>\n",
              "  </svg>\n",
              "      </button>\n",
              "      \n",
              "  <style>\n",
              "    .colab-df-container {\n",
              "      display:flex;\n",
              "      flex-wrap:wrap;\n",
              "      gap: 12px;\n",
              "    }\n",
              "\n",
              "    .colab-df-convert {\n",
              "      background-color: #E8F0FE;\n",
              "      border: none;\n",
              "      border-radius: 50%;\n",
              "      cursor: pointer;\n",
              "      display: none;\n",
              "      fill: #1967D2;\n",
              "      height: 32px;\n",
              "      padding: 0 0 0 0;\n",
              "      width: 32px;\n",
              "    }\n",
              "\n",
              "    .colab-df-convert:hover {\n",
              "      background-color: #E2EBFA;\n",
              "      box-shadow: 0px 1px 2px rgba(60, 64, 67, 0.3), 0px 1px 3px 1px rgba(60, 64, 67, 0.15);\n",
              "      fill: #174EA6;\n",
              "    }\n",
              "\n",
              "    [theme=dark] .colab-df-convert {\n",
              "      background-color: #3B4455;\n",
              "      fill: #D2E3FC;\n",
              "    }\n",
              "\n",
              "    [theme=dark] .colab-df-convert:hover {\n",
              "      background-color: #434B5C;\n",
              "      box-shadow: 0px 1px 3px 1px rgba(0, 0, 0, 0.15);\n",
              "      filter: drop-shadow(0px 1px 2px rgba(0, 0, 0, 0.3));\n",
              "      fill: #FFFFFF;\n",
              "    }\n",
              "  </style>\n",
              "\n",
              "      <script>\n",
              "        const buttonEl =\n",
              "          document.querySelector('#df-437c95ff-52c3-42fc-b4c1-8d865e46e330 button.colab-df-convert');\n",
              "        buttonEl.style.display =\n",
              "          google.colab.kernel.accessAllowed ? 'block' : 'none';\n",
              "\n",
              "        async function convertToInteractive(key) {\n",
              "          const element = document.querySelector('#df-437c95ff-52c3-42fc-b4c1-8d865e46e330');\n",
              "          const dataTable =\n",
              "            await google.colab.kernel.invokeFunction('convertToInteractive',\n",
              "                                                     [key], {});\n",
              "          if (!dataTable) return;\n",
              "\n",
              "          const docLinkHtml = 'Like what you see? Visit the ' +\n",
              "            '<a target=\"_blank\" href=https://colab.research.google.com/notebooks/data_table.ipynb>data table notebook</a>'\n",
              "            + ' to learn more about interactive tables.';\n",
              "          element.innerHTML = '';\n",
              "          dataTable['output_type'] = 'display_data';\n",
              "          await google.colab.output.renderOutput(dataTable, element);\n",
              "          const docLink = document.createElement('div');\n",
              "          docLink.innerHTML = docLinkHtml;\n",
              "          element.appendChild(docLink);\n",
              "        }\n",
              "      </script>\n",
              "    </div>\n",
              "  </div>\n",
              "  "
            ]
          },
          "metadata": {},
          "execution_count": 28
        }
      ]
    },
    {
      "cell_type": "code",
      "source": [
        "myNew_dataset.tail()"
      ],
      "metadata": {
        "colab": {
          "base_uri": "https://localhost:8080/",
          "height": 299
        },
        "id": "VAhQLpjgMUev",
        "outputId": "7d6c0730-e4b6-412c-91d9-98e12a9ed4ff"
      },
      "execution_count": null,
      "outputs": [
        {
          "output_type": "execute_result",
          "data": {
            "text/plain": [
              "            Time        V1        V2        V3        V4        V5        V6  \\\n",
              "279863  169142.0 -1.927883  1.125653 -4.518331  1.749293 -1.566487 -2.010494   \n",
              "280143  169347.0  1.378559  1.289381 -5.004247  1.411850  0.442581 -1.326536   \n",
              "280149  169351.0 -0.676143  1.126366 -2.213700  0.468308 -1.120541 -0.003346   \n",
              "281144  169966.0 -3.113832  0.585864 -5.399730  1.817092 -0.840618 -2.943548   \n",
              "281674  170348.0  1.991976  0.158476 -2.583441  0.408670  1.151147 -0.096695   \n",
              "\n",
              "              V7        V8        V9  ...       V21       V22       V23  \\\n",
              "279863 -0.882850  0.697211 -2.064945  ...  0.778584 -0.319189  0.639419   \n",
              "280143 -1.413170  0.248525 -1.127396  ...  0.370612  0.028234 -0.145640   \n",
              "280149 -2.234739  1.210158 -0.652250  ...  0.751826  0.834108  0.190944   \n",
              "281144 -2.208002  1.058733 -1.632333  ...  0.583276 -0.269209 -0.456108   \n",
              "281674  0.223050 -0.068384  0.577829  ... -0.164350 -0.295135 -0.072173   \n",
              "\n",
              "             V24       V25       V26       V27       V28  Amount  Class  \n",
              "279863 -0.294885  0.537503  0.788395  0.292680  0.147968  390.00      1  \n",
              "280143 -0.081049  0.521875  0.739467  0.389152  0.186637    0.76      1  \n",
              "280149  0.032070 -0.739695  0.471111  0.385107  0.194361   77.89      1  \n",
              "281144 -0.183659 -0.328168  0.606116  0.884876 -0.253700  245.00      1  \n",
              "281674 -0.450261  0.313267 -0.289617  0.002988 -0.015309   42.53      1  \n",
              "\n",
              "[5 rows x 31 columns]"
            ],
            "text/html": [
              "\n",
              "  <div id=\"df-fdee0f8a-1618-407e-b200-bc4819d554af\">\n",
              "    <div class=\"colab-df-container\">\n",
              "      <div>\n",
              "<style scoped>\n",
              "    .dataframe tbody tr th:only-of-type {\n",
              "        vertical-align: middle;\n",
              "    }\n",
              "\n",
              "    .dataframe tbody tr th {\n",
              "        vertical-align: top;\n",
              "    }\n",
              "\n",
              "    .dataframe thead th {\n",
              "        text-align: right;\n",
              "    }\n",
              "</style>\n",
              "<table border=\"1\" class=\"dataframe\">\n",
              "  <thead>\n",
              "    <tr style=\"text-align: right;\">\n",
              "      <th></th>\n",
              "      <th>Time</th>\n",
              "      <th>V1</th>\n",
              "      <th>V2</th>\n",
              "      <th>V3</th>\n",
              "      <th>V4</th>\n",
              "      <th>V5</th>\n",
              "      <th>V6</th>\n",
              "      <th>V7</th>\n",
              "      <th>V8</th>\n",
              "      <th>V9</th>\n",
              "      <th>...</th>\n",
              "      <th>V21</th>\n",
              "      <th>V22</th>\n",
              "      <th>V23</th>\n",
              "      <th>V24</th>\n",
              "      <th>V25</th>\n",
              "      <th>V26</th>\n",
              "      <th>V27</th>\n",
              "      <th>V28</th>\n",
              "      <th>Amount</th>\n",
              "      <th>Class</th>\n",
              "    </tr>\n",
              "  </thead>\n",
              "  <tbody>\n",
              "    <tr>\n",
              "      <th>279863</th>\n",
              "      <td>169142.0</td>\n",
              "      <td>-1.927883</td>\n",
              "      <td>1.125653</td>\n",
              "      <td>-4.518331</td>\n",
              "      <td>1.749293</td>\n",
              "      <td>-1.566487</td>\n",
              "      <td>-2.010494</td>\n",
              "      <td>-0.882850</td>\n",
              "      <td>0.697211</td>\n",
              "      <td>-2.064945</td>\n",
              "      <td>...</td>\n",
              "      <td>0.778584</td>\n",
              "      <td>-0.319189</td>\n",
              "      <td>0.639419</td>\n",
              "      <td>-0.294885</td>\n",
              "      <td>0.537503</td>\n",
              "      <td>0.788395</td>\n",
              "      <td>0.292680</td>\n",
              "      <td>0.147968</td>\n",
              "      <td>390.00</td>\n",
              "      <td>1</td>\n",
              "    </tr>\n",
              "    <tr>\n",
              "      <th>280143</th>\n",
              "      <td>169347.0</td>\n",
              "      <td>1.378559</td>\n",
              "      <td>1.289381</td>\n",
              "      <td>-5.004247</td>\n",
              "      <td>1.411850</td>\n",
              "      <td>0.442581</td>\n",
              "      <td>-1.326536</td>\n",
              "      <td>-1.413170</td>\n",
              "      <td>0.248525</td>\n",
              "      <td>-1.127396</td>\n",
              "      <td>...</td>\n",
              "      <td>0.370612</td>\n",
              "      <td>0.028234</td>\n",
              "      <td>-0.145640</td>\n",
              "      <td>-0.081049</td>\n",
              "      <td>0.521875</td>\n",
              "      <td>0.739467</td>\n",
              "      <td>0.389152</td>\n",
              "      <td>0.186637</td>\n",
              "      <td>0.76</td>\n",
              "      <td>1</td>\n",
              "    </tr>\n",
              "    <tr>\n",
              "      <th>280149</th>\n",
              "      <td>169351.0</td>\n",
              "      <td>-0.676143</td>\n",
              "      <td>1.126366</td>\n",
              "      <td>-2.213700</td>\n",
              "      <td>0.468308</td>\n",
              "      <td>-1.120541</td>\n",
              "      <td>-0.003346</td>\n",
              "      <td>-2.234739</td>\n",
              "      <td>1.210158</td>\n",
              "      <td>-0.652250</td>\n",
              "      <td>...</td>\n",
              "      <td>0.751826</td>\n",
              "      <td>0.834108</td>\n",
              "      <td>0.190944</td>\n",
              "      <td>0.032070</td>\n",
              "      <td>-0.739695</td>\n",
              "      <td>0.471111</td>\n",
              "      <td>0.385107</td>\n",
              "      <td>0.194361</td>\n",
              "      <td>77.89</td>\n",
              "      <td>1</td>\n",
              "    </tr>\n",
              "    <tr>\n",
              "      <th>281144</th>\n",
              "      <td>169966.0</td>\n",
              "      <td>-3.113832</td>\n",
              "      <td>0.585864</td>\n",
              "      <td>-5.399730</td>\n",
              "      <td>1.817092</td>\n",
              "      <td>-0.840618</td>\n",
              "      <td>-2.943548</td>\n",
              "      <td>-2.208002</td>\n",
              "      <td>1.058733</td>\n",
              "      <td>-1.632333</td>\n",
              "      <td>...</td>\n",
              "      <td>0.583276</td>\n",
              "      <td>-0.269209</td>\n",
              "      <td>-0.456108</td>\n",
              "      <td>-0.183659</td>\n",
              "      <td>-0.328168</td>\n",
              "      <td>0.606116</td>\n",
              "      <td>0.884876</td>\n",
              "      <td>-0.253700</td>\n",
              "      <td>245.00</td>\n",
              "      <td>1</td>\n",
              "    </tr>\n",
              "    <tr>\n",
              "      <th>281674</th>\n",
              "      <td>170348.0</td>\n",
              "      <td>1.991976</td>\n",
              "      <td>0.158476</td>\n",
              "      <td>-2.583441</td>\n",
              "      <td>0.408670</td>\n",
              "      <td>1.151147</td>\n",
              "      <td>-0.096695</td>\n",
              "      <td>0.223050</td>\n",
              "      <td>-0.068384</td>\n",
              "      <td>0.577829</td>\n",
              "      <td>...</td>\n",
              "      <td>-0.164350</td>\n",
              "      <td>-0.295135</td>\n",
              "      <td>-0.072173</td>\n",
              "      <td>-0.450261</td>\n",
              "      <td>0.313267</td>\n",
              "      <td>-0.289617</td>\n",
              "      <td>0.002988</td>\n",
              "      <td>-0.015309</td>\n",
              "      <td>42.53</td>\n",
              "      <td>1</td>\n",
              "    </tr>\n",
              "  </tbody>\n",
              "</table>\n",
              "<p>5 rows × 31 columns</p>\n",
              "</div>\n",
              "      <button class=\"colab-df-convert\" onclick=\"convertToInteractive('df-fdee0f8a-1618-407e-b200-bc4819d554af')\"\n",
              "              title=\"Convert this dataframe to an interactive table.\"\n",
              "              style=\"display:none;\">\n",
              "        \n",
              "  <svg xmlns=\"http://www.w3.org/2000/svg\" height=\"24px\"viewBox=\"0 0 24 24\"\n",
              "       width=\"24px\">\n",
              "    <path d=\"M0 0h24v24H0V0z\" fill=\"none\"/>\n",
              "    <path d=\"M18.56 5.44l.94 2.06.94-2.06 2.06-.94-2.06-.94-.94-2.06-.94 2.06-2.06.94zm-11 1L8.5 8.5l.94-2.06 2.06-.94-2.06-.94L8.5 2.5l-.94 2.06-2.06.94zm10 10l.94 2.06.94-2.06 2.06-.94-2.06-.94-.94-2.06-.94 2.06-2.06.94z\"/><path d=\"M17.41 7.96l-1.37-1.37c-.4-.4-.92-.59-1.43-.59-.52 0-1.04.2-1.43.59L10.3 9.45l-7.72 7.72c-.78.78-.78 2.05 0 2.83L4 21.41c.39.39.9.59 1.41.59.51 0 1.02-.2 1.41-.59l7.78-7.78 2.81-2.81c.8-.78.8-2.07 0-2.86zM5.41 20L4 18.59l7.72-7.72 1.47 1.35L5.41 20z\"/>\n",
              "  </svg>\n",
              "      </button>\n",
              "      \n",
              "  <style>\n",
              "    .colab-df-container {\n",
              "      display:flex;\n",
              "      flex-wrap:wrap;\n",
              "      gap: 12px;\n",
              "    }\n",
              "\n",
              "    .colab-df-convert {\n",
              "      background-color: #E8F0FE;\n",
              "      border: none;\n",
              "      border-radius: 50%;\n",
              "      cursor: pointer;\n",
              "      display: none;\n",
              "      fill: #1967D2;\n",
              "      height: 32px;\n",
              "      padding: 0 0 0 0;\n",
              "      width: 32px;\n",
              "    }\n",
              "\n",
              "    .colab-df-convert:hover {\n",
              "      background-color: #E2EBFA;\n",
              "      box-shadow: 0px 1px 2px rgba(60, 64, 67, 0.3), 0px 1px 3px 1px rgba(60, 64, 67, 0.15);\n",
              "      fill: #174EA6;\n",
              "    }\n",
              "\n",
              "    [theme=dark] .colab-df-convert {\n",
              "      background-color: #3B4455;\n",
              "      fill: #D2E3FC;\n",
              "    }\n",
              "\n",
              "    [theme=dark] .colab-df-convert:hover {\n",
              "      background-color: #434B5C;\n",
              "      box-shadow: 0px 1px 3px 1px rgba(0, 0, 0, 0.15);\n",
              "      filter: drop-shadow(0px 1px 2px rgba(0, 0, 0, 0.3));\n",
              "      fill: #FFFFFF;\n",
              "    }\n",
              "  </style>\n",
              "\n",
              "      <script>\n",
              "        const buttonEl =\n",
              "          document.querySelector('#df-fdee0f8a-1618-407e-b200-bc4819d554af button.colab-df-convert');\n",
              "        buttonEl.style.display =\n",
              "          google.colab.kernel.accessAllowed ? 'block' : 'none';\n",
              "\n",
              "        async function convertToInteractive(key) {\n",
              "          const element = document.querySelector('#df-fdee0f8a-1618-407e-b200-bc4819d554af');\n",
              "          const dataTable =\n",
              "            await google.colab.kernel.invokeFunction('convertToInteractive',\n",
              "                                                     [key], {});\n",
              "          if (!dataTable) return;\n",
              "\n",
              "          const docLinkHtml = 'Like what you see? Visit the ' +\n",
              "            '<a target=\"_blank\" href=https://colab.research.google.com/notebooks/data_table.ipynb>data table notebook</a>'\n",
              "            + ' to learn more about interactive tables.';\n",
              "          element.innerHTML = '';\n",
              "          dataTable['output_type'] = 'display_data';\n",
              "          await google.colab.output.renderOutput(dataTable, element);\n",
              "          const docLink = document.createElement('div');\n",
              "          docLink.innerHTML = docLinkHtml;\n",
              "          element.appendChild(docLink);\n",
              "        }\n",
              "      </script>\n",
              "    </div>\n",
              "  </div>\n",
              "  "
            ]
          },
          "metadata": {},
          "execution_count": 29
        }
      ]
    },
    {
      "cell_type": "code",
      "source": [
        "myNew_dataset['Class'].value_counts()"
      ],
      "metadata": {
        "colab": {
          "base_uri": "https://localhost:8080/"
        },
        "id": "DnbqK7OpMgD1",
        "outputId": "dd106c54-a90a-4ff7-c6a4-0c841c9d050d"
      },
      "execution_count": null,
      "outputs": [
        {
          "output_type": "execute_result",
          "data": {
            "text/plain": [
              "0    492\n",
              "1    492\n",
              "Name: Class, dtype: int64"
            ]
          },
          "metadata": {},
          "execution_count": 30
        }
      ]
    },
    {
      "cell_type": "code",
      "source": [
        "# compare the values for both transactions\n",
        "myNew_dataset.groupby('Class').mean()"
      ],
      "metadata": {
        "colab": {
          "base_uri": "https://localhost:8080/",
          "height": 236
        },
        "id": "5e90Hhv6QMnE",
        "outputId": "18b5bfdf-433c-475c-f4ed-16e46888b4e0"
      },
      "execution_count": 9,
      "outputs": [
        {
          "output_type": "execute_result",
          "data": {
            "text/plain": [
              "               Time        V1        V2        V3        V4        V5  \\\n",
              "Class                                                                   \n",
              "0.0    48333.721545 -0.340851  0.002296  0.663253  0.205191 -0.285660   \n",
              "1.0    41696.459459 -5.665406  3.986162 -7.246458  4.546140 -4.019892   \n",
              "\n",
              "             V6        V7        V8        V9  ...      V20       V21  \\\n",
              "Class                                          ...                      \n",
              "0.0    0.027780 -0.138447  0.052121 -0.086823  ...  0.03217 -0.051636   \n",
              "1.0   -1.498144 -5.995046  1.524421 -2.625621  ...  0.24524  1.274524   \n",
              "\n",
              "            V22       V23       V24       V25       V26       V27       V28  \\\n",
              "Class                                                                         \n",
              "0.0   -0.111799  0.012710  0.037937  0.125235  0.067152 -0.019977 -0.008939   \n",
              "1.0   -0.323077 -0.110412 -0.109276  0.204702  0.061254  0.502860  0.080389   \n",
              "\n",
              "           Amount  \n",
              "Class              \n",
              "0.0     94.632703  \n",
              "1.0    116.936293  \n",
              "\n",
              "[2 rows x 30 columns]"
            ],
            "text/html": [
              "\n",
              "  <div id=\"df-9071f859-79b1-41d0-8f4f-50b138a61a13\">\n",
              "    <div class=\"colab-df-container\">\n",
              "      <div>\n",
              "<style scoped>\n",
              "    .dataframe tbody tr th:only-of-type {\n",
              "        vertical-align: middle;\n",
              "    }\n",
              "\n",
              "    .dataframe tbody tr th {\n",
              "        vertical-align: top;\n",
              "    }\n",
              "\n",
              "    .dataframe thead th {\n",
              "        text-align: right;\n",
              "    }\n",
              "</style>\n",
              "<table border=\"1\" class=\"dataframe\">\n",
              "  <thead>\n",
              "    <tr style=\"text-align: right;\">\n",
              "      <th></th>\n",
              "      <th>Time</th>\n",
              "      <th>V1</th>\n",
              "      <th>V2</th>\n",
              "      <th>V3</th>\n",
              "      <th>V4</th>\n",
              "      <th>V5</th>\n",
              "      <th>V6</th>\n",
              "      <th>V7</th>\n",
              "      <th>V8</th>\n",
              "      <th>V9</th>\n",
              "      <th>...</th>\n",
              "      <th>V20</th>\n",
              "      <th>V21</th>\n",
              "      <th>V22</th>\n",
              "      <th>V23</th>\n",
              "      <th>V24</th>\n",
              "      <th>V25</th>\n",
              "      <th>V26</th>\n",
              "      <th>V27</th>\n",
              "      <th>V28</th>\n",
              "      <th>Amount</th>\n",
              "    </tr>\n",
              "    <tr>\n",
              "      <th>Class</th>\n",
              "      <th></th>\n",
              "      <th></th>\n",
              "      <th></th>\n",
              "      <th></th>\n",
              "      <th></th>\n",
              "      <th></th>\n",
              "      <th></th>\n",
              "      <th></th>\n",
              "      <th></th>\n",
              "      <th></th>\n",
              "      <th></th>\n",
              "      <th></th>\n",
              "      <th></th>\n",
              "      <th></th>\n",
              "      <th></th>\n",
              "      <th></th>\n",
              "      <th></th>\n",
              "      <th></th>\n",
              "      <th></th>\n",
              "      <th></th>\n",
              "      <th></th>\n",
              "    </tr>\n",
              "  </thead>\n",
              "  <tbody>\n",
              "    <tr>\n",
              "      <th>0.0</th>\n",
              "      <td>48333.721545</td>\n",
              "      <td>-0.340851</td>\n",
              "      <td>0.002296</td>\n",
              "      <td>0.663253</td>\n",
              "      <td>0.205191</td>\n",
              "      <td>-0.285660</td>\n",
              "      <td>0.027780</td>\n",
              "      <td>-0.138447</td>\n",
              "      <td>0.052121</td>\n",
              "      <td>-0.086823</td>\n",
              "      <td>...</td>\n",
              "      <td>0.03217</td>\n",
              "      <td>-0.051636</td>\n",
              "      <td>-0.111799</td>\n",
              "      <td>0.012710</td>\n",
              "      <td>0.037937</td>\n",
              "      <td>0.125235</td>\n",
              "      <td>0.067152</td>\n",
              "      <td>-0.019977</td>\n",
              "      <td>-0.008939</td>\n",
              "      <td>94.632703</td>\n",
              "    </tr>\n",
              "    <tr>\n",
              "      <th>1.0</th>\n",
              "      <td>41696.459459</td>\n",
              "      <td>-5.665406</td>\n",
              "      <td>3.986162</td>\n",
              "      <td>-7.246458</td>\n",
              "      <td>4.546140</td>\n",
              "      <td>-4.019892</td>\n",
              "      <td>-1.498144</td>\n",
              "      <td>-5.995046</td>\n",
              "      <td>1.524421</td>\n",
              "      <td>-2.625621</td>\n",
              "      <td>...</td>\n",
              "      <td>0.24524</td>\n",
              "      <td>1.274524</td>\n",
              "      <td>-0.323077</td>\n",
              "      <td>-0.110412</td>\n",
              "      <td>-0.109276</td>\n",
              "      <td>0.204702</td>\n",
              "      <td>0.061254</td>\n",
              "      <td>0.502860</td>\n",
              "      <td>0.080389</td>\n",
              "      <td>116.936293</td>\n",
              "    </tr>\n",
              "  </tbody>\n",
              "</table>\n",
              "<p>2 rows × 30 columns</p>\n",
              "</div>\n",
              "      <button class=\"colab-df-convert\" onclick=\"convertToInteractive('df-9071f859-79b1-41d0-8f4f-50b138a61a13')\"\n",
              "              title=\"Convert this dataframe to an interactive table.\"\n",
              "              style=\"display:none;\">\n",
              "        \n",
              "  <svg xmlns=\"http://www.w3.org/2000/svg\" height=\"24px\"viewBox=\"0 0 24 24\"\n",
              "       width=\"24px\">\n",
              "    <path d=\"M0 0h24v24H0V0z\" fill=\"none\"/>\n",
              "    <path d=\"M18.56 5.44l.94 2.06.94-2.06 2.06-.94-2.06-.94-.94-2.06-.94 2.06-2.06.94zm-11 1L8.5 8.5l.94-2.06 2.06-.94-2.06-.94L8.5 2.5l-.94 2.06-2.06.94zm10 10l.94 2.06.94-2.06 2.06-.94-2.06-.94-.94-2.06-.94 2.06-2.06.94z\"/><path d=\"M17.41 7.96l-1.37-1.37c-.4-.4-.92-.59-1.43-.59-.52 0-1.04.2-1.43.59L10.3 9.45l-7.72 7.72c-.78.78-.78 2.05 0 2.83L4 21.41c.39.39.9.59 1.41.59.51 0 1.02-.2 1.41-.59l7.78-7.78 2.81-2.81c.8-.78.8-2.07 0-2.86zM5.41 20L4 18.59l7.72-7.72 1.47 1.35L5.41 20z\"/>\n",
              "  </svg>\n",
              "      </button>\n",
              "      \n",
              "  <style>\n",
              "    .colab-df-container {\n",
              "      display:flex;\n",
              "      flex-wrap:wrap;\n",
              "      gap: 12px;\n",
              "    }\n",
              "\n",
              "    .colab-df-convert {\n",
              "      background-color: #E8F0FE;\n",
              "      border: none;\n",
              "      border-radius: 50%;\n",
              "      cursor: pointer;\n",
              "      display: none;\n",
              "      fill: #1967D2;\n",
              "      height: 32px;\n",
              "      padding: 0 0 0 0;\n",
              "      width: 32px;\n",
              "    }\n",
              "\n",
              "    .colab-df-convert:hover {\n",
              "      background-color: #E2EBFA;\n",
              "      box-shadow: 0px 1px 2px rgba(60, 64, 67, 0.3), 0px 1px 3px 1px rgba(60, 64, 67, 0.15);\n",
              "      fill: #174EA6;\n",
              "    }\n",
              "\n",
              "    [theme=dark] .colab-df-convert {\n",
              "      background-color: #3B4455;\n",
              "      fill: #D2E3FC;\n",
              "    }\n",
              "\n",
              "    [theme=dark] .colab-df-convert:hover {\n",
              "      background-color: #434B5C;\n",
              "      box-shadow: 0px 1px 3px 1px rgba(0, 0, 0, 0.15);\n",
              "      filter: drop-shadow(0px 1px 2px rgba(0, 0, 0, 0.3));\n",
              "      fill: #FFFFFF;\n",
              "    }\n",
              "  </style>\n",
              "\n",
              "      <script>\n",
              "        const buttonEl =\n",
              "          document.querySelector('#df-9071f859-79b1-41d0-8f4f-50b138a61a13 button.colab-df-convert');\n",
              "        buttonEl.style.display =\n",
              "          google.colab.kernel.accessAllowed ? 'block' : 'none';\n",
              "\n",
              "        async function convertToInteractive(key) {\n",
              "          const element = document.querySelector('#df-9071f859-79b1-41d0-8f4f-50b138a61a13');\n",
              "          const dataTable =\n",
              "            await google.colab.kernel.invokeFunction('convertToInteractive',\n",
              "                                                     [key], {});\n",
              "          if (!dataTable) return;\n",
              "\n",
              "          const docLinkHtml = 'Like what you see? Visit the ' +\n",
              "            '<a target=\"_blank\" href=https://colab.research.google.com/notebooks/data_table.ipynb>data table notebook</a>'\n",
              "            + ' to learn more about interactive tables.';\n",
              "          element.innerHTML = '';\n",
              "          dataTable['output_type'] = 'display_data';\n",
              "          await google.colab.output.renderOutput(dataTable, element);\n",
              "          const docLink = document.createElement('div');\n",
              "          docLink.innerHTML = docLinkHtml;\n",
              "          element.appendChild(docLink);\n",
              "        }\n",
              "      </script>\n",
              "    </div>\n",
              "  </div>\n",
              "  "
            ]
          },
          "metadata": {},
          "execution_count": 9
        }
      ]
    },
    {
      "cell_type": "markdown",
      "source": [
        "I will now be seperating the data into targets and features either zero or one"
      ],
      "metadata": {
        "id": "BUjizu6ZQpbl"
      }
    },
    {
      "cell_type": "code",
      "source": [
        "x = myNew_dataset.drop(columns = 'Class', axis = 1 )\n",
        "y = myNew_dataset['Class']"
      ],
      "metadata": {
        "id": "QEuUMo3LQ0qv"
      },
      "execution_count": 12,
      "outputs": []
    },
    {
      "cell_type": "code",
      "source": [
        "print(x) #dropped the class columm only 30 now"
      ],
      "metadata": {
        "colab": {
          "base_uri": "https://localhost:8080/"
        },
        "id": "1GooiiKgIWwH",
        "outputId": "8b4e449f-8e34-48c0-8849-ea66833d37d8"
      },
      "execution_count": 13,
      "outputs": [
        {
          "output_type": "stream",
          "name": "stdout",
          "text": [
            "         Time        V1        V2        V3        V4        V5        V6  \\\n",
            "105129  69377  1.075676 -0.281544  1.317319  0.752709 -0.977419  0.361756   \n",
            "116801  74432  1.236026  0.015663  0.608775  0.888823 -0.642314 -0.604799   \n",
            "116589  74346 -0.559217  0.757296  2.210868  1.387400  0.191777  0.894785   \n",
            "29753   35616  1.112466  0.127925  0.326518  1.230513 -0.240635 -0.403531   \n",
            "30913   36136 -2.761312  2.707916  0.631881 -0.528908 -0.424894 -0.909094   \n",
            "...       ...       ...       ...       ...       ...       ...       ...   \n",
            "123301  76876 -1.298359  1.079671 -0.180678  1.287839  1.858273 -2.223695   \n",
            "124036  77154 -0.715414  0.608590  1.155501 -0.267565 -0.563748 -0.618898   \n",
            "124087  77171  1.118560  1.291858 -1.298805  2.135772  0.772204 -1.147291   \n",
            "124115  77182 -1.410852  2.268271 -2.297554  1.871331  0.248957 -1.208799   \n",
            "124176  77202 -0.356326  1.435305 -0.813564  1.993117  2.055878 -0.543579   \n",
            "\n",
            "              V7        V8        V9  ...       V20       V21       V22  \\\n",
            "105129 -0.815565  0.359194  0.695108  ... -0.140786 -0.000545  0.171275   \n",
            "116801 -0.146688 -0.093858  0.637451  ... -0.143083 -0.093438 -0.013563   \n",
            "116589  0.060048  0.472358 -0.468025  ... -0.185026  0.030738  0.083221   \n",
            "29753   0.061721 -0.033107  0.078564  ... -0.132952  0.114455  0.290693   \n",
            "30913   0.783708 -0.304952  1.252626  ...  0.919365 -0.407378 -0.573571   \n",
            "...          ...       ...       ...  ...       ...       ...       ...   \n",
            "123301  0.525167 -0.096874 -0.168893  ... -0.187572 -0.332983 -0.851270   \n",
            "124036  0.698308  0.069837 -0.133341  ... -0.186978  0.130749  0.239389   \n",
            "124087  0.390578 -0.107072 -0.038339  ... -0.023576 -0.346374 -0.663588   \n",
            "124115 -1.358648  1.102916 -1.317364  ...  0.058063  0.155381 -0.614880   \n",
            "124176  0.487691  0.085449 -0.536352  ...  0.303262 -0.312863 -0.687874   \n",
            "\n",
            "             V23       V24       V25       V26       V27       V28  Amount  \n",
            "105129  0.074325  0.252557  0.113667  0.317260  0.027618  0.015541   11.50  \n",
            "116801 -0.081650  0.455909  0.583889  0.438830 -0.015668  0.009707    1.00  \n",
            "116589 -0.151483 -0.542861 -0.414174 -0.219878  0.148871  0.147240   10.00  \n",
            "29753  -0.107854  0.068939  0.564490 -0.253111  0.022717  0.024288   44.80  \n",
            "30913  -0.006693  0.365371  0.012555 -0.094172 -0.839463 -0.509572    9.86  \n",
            "...          ...       ...       ...       ...       ...       ...     ...  \n",
            "123301 -0.370800  0.298242  0.442930 -0.522832  0.000105  0.135698    1.00  \n",
            "124036 -0.090227  0.411572 -0.216126  0.353896 -0.062361  0.008433  129.00  \n",
            "124087 -0.102326  0.017911  0.650302 -0.332366  0.105949  0.128124    1.00  \n",
            "124115 -0.196126 -0.464376  0.118473 -0.484537  0.373596  0.187657    1.00  \n",
            "124176 -0.267003 -1.158480  0.271460 -0.155397  0.114328  0.101526    1.00  \n",
            "\n",
            "[751 rows x 30 columns]\n"
          ]
        }
      ]
    },
    {
      "cell_type": "code",
      "source": [
        "print(y)"
      ],
      "metadata": {
        "colab": {
          "base_uri": "https://localhost:8080/"
        },
        "id": "2UkltdfdIgdc",
        "outputId": "a3fbf242-c820-4f25-d2b1-4e5e81e72d12"
      },
      "execution_count": 14,
      "outputs": [
        {
          "output_type": "stream",
          "name": "stdout",
          "text": [
            "105129    0.0\n",
            "116801    0.0\n",
            "116589    0.0\n",
            "29753     0.0\n",
            "30913     0.0\n",
            "         ... \n",
            "123301    1.0\n",
            "124036    1.0\n",
            "124087    1.0\n",
            "124115    1.0\n",
            "124176    1.0\n",
            "Name: Class, Length: 751, dtype: float64\n"
          ]
        }
      ]
    },
    {
      "cell_type": "markdown",
      "source": [
        "Now spliting the data into testing and training data"
      ],
      "metadata": {
        "id": "DawpaOk-I8TS"
      }
    },
    {
      "cell_type": "markdown",
      "source": [
        "X is the features and Y is the Class.  Test size is the amount of data i want. X and y will be split into training data randomly. Stratify = y is because if i dont mention it the distribution wont be evenly distributed"
      ],
      "metadata": {
        "id": "O8LEHxr9Ll61"
      }
    },
    {
      "cell_type": "markdown",
      "source": [
        "The train_test_split() method is used to split our data into train and test sets"
      ],
      "metadata": {
        "id": "QmHoBs4bKgOc"
      }
    },
    {
      "cell_type": "code",
      "source": [
        "x_train, x_test, y_train, y_test = train_test_split(x, y, test_size=0.2, stratify=y, random_state=2)"
      ],
      "metadata": {
        "id": "UYjzKRfYK5d_"
      },
      "execution_count": 16,
      "outputs": []
    },
    {
      "cell_type": "code",
      "source": [
        "print(x.shape, x_train.shape, x_test.shape) #original is 751 values , train values 600 and test 151"
      ],
      "metadata": {
        "colab": {
          "base_uri": "https://localhost:8080/"
        },
        "id": "TuoGlwzyN6M2",
        "outputId": "cf57641d-777f-497d-8f34-a6760d091941"
      },
      "execution_count": 20,
      "outputs": [
        {
          "output_type": "stream",
          "name": "stdout",
          "text": [
            "(751, 30) (600, 30) (151, 30)\n"
          ]
        }
      ]
    },
    {
      "cell_type": "markdown",
      "source": [
        "Model Training Logistic Regression"
      ],
      "metadata": {
        "id": "ykJGT4pZQB1U"
      }
    },
    {
      "cell_type": "code",
      "source": [
        "model = LogisticRegression()"
      ],
      "metadata": {
        "id": "FuCTLj09QsYF"
      },
      "execution_count": 21,
      "outputs": []
    },
    {
      "cell_type": "markdown",
      "source": [
        "x is all the features of the data. y is the 0 and 1."
      ],
      "metadata": {
        "id": "Bvr9YNaDQ9K7"
      }
    },
    {
      "cell_type": "markdown",
      "source": [
        "The fit() method takes the training data as arguments, which can be one array in the case of unsupervised learning, or two arrays in the case of supervised learning."
      ],
      "metadata": {
        "id": "GM7OemPITC-8"
      }
    },
    {
      "cell_type": "code",
      "source": [
        "model.fit(x_train, y_train)"
      ],
      "metadata": {
        "colab": {
          "base_uri": "https://localhost:8080/"
        },
        "id": "7u1Xx1Q_Q14Y",
        "outputId": "f8b4e13f-2caf-4512-f9d1-f1f3cbc49846"
      },
      "execution_count": 23,
      "outputs": [
        {
          "output_type": "stream",
          "name": "stderr",
          "text": [
            "/usr/local/lib/python3.8/dist-packages/sklearn/linear_model/_logistic.py:814: ConvergenceWarning: lbfgs failed to converge (status=1):\n",
            "STOP: TOTAL NO. of ITERATIONS REACHED LIMIT.\n",
            "\n",
            "Increase the number of iterations (max_iter) or scale the data as shown in:\n",
            "    https://scikit-learn.org/stable/modules/preprocessing.html\n",
            "Please also refer to the documentation for alternative solver options:\n",
            "    https://scikit-learn.org/stable/modules/linear_model.html#logistic-regression\n",
            "  n_iter_i = _check_optimize_result(\n"
          ]
        },
        {
          "output_type": "execute_result",
          "data": {
            "text/plain": [
              "LogisticRegression()"
            ]
          },
          "metadata": {},
          "execution_count": 23
        }
      ]
    },
    {
      "cell_type": "markdown",
      "source": [
        "Model Evaluation\n"
      ],
      "metadata": {
        "id": "RdkBpV6jSb-F"
      }
    },
    {
      "cell_type": "markdown",
      "source": [
        "Accurancy score x_train will try now and predict what is the class values for the y model and the accuracy score"
      ],
      "metadata": {
        "id": "M2beigD6Sst6"
      }
    },
    {
      "cell_type": "markdown",
      "source": [
        "Accuracy for the training data"
      ],
      "metadata": {
        "id": "XetXnsEfTSKt"
      }
    },
    {
      "cell_type": "code",
      "source": [
        "x_train_prediction = model.predict(x_train)\n",
        "data_training_Score = accuracy_score(x_train_prediction, y_train)"
      ],
      "metadata": {
        "id": "iurZtJgqTHds"
      },
      "execution_count": 30,
      "outputs": []
    },
    {
      "cell_type": "code",
      "source": [
        "print('Training datas Accuracy : ', data_training_Score)"
      ],
      "metadata": {
        "colab": {
          "base_uri": "https://localhost:8080/"
        },
        "id": "j1RMhu7BTlxb",
        "outputId": "f72baa5c-10b2-472e-99c8-19d1d7233c31"
      },
      "execution_count": 31,
      "outputs": [
        {
          "output_type": "stream",
          "name": "stdout",
          "text": [
            "Training datas Accuracy :  0.9566666666666667\n"
          ]
        }
      ]
    },
    {
      "cell_type": "markdown",
      "source": [
        "Good accuracy score. 95 predictions out of 100. Training data"
      ],
      "metadata": {
        "id": "GwGwSseXTwII"
      }
    },
    {
      "cell_type": "code",
      "source": [
        "# accuracy on test data\n",
        "x_test_prediction = model.predict(x_test)\n",
        "data_test_score = accuracy_score(x_test_prediction, y_test)"
      ],
      "metadata": {
        "id": "AxY6oAGXT9Hh"
      },
      "execution_count": 28,
      "outputs": []
    },
    {
      "cell_type": "code",
      "source": [
        "print('test data Accuracy : ', data_test_score)"
      ],
      "metadata": {
        "colab": {
          "base_uri": "https://localhost:8080/"
        },
        "id": "DWj30ZEKT_7z",
        "outputId": "bd7ca66c-7bef-4d33-ab0d-8c423d2d9a17"
      },
      "execution_count": 29,
      "outputs": [
        {
          "output_type": "stream",
          "name": "stdout",
          "text": [
            "test data Accuracy :  0.9205298013245033\n"
          ]
        }
      ]
    },
    {
      "cell_type": "markdown",
      "source": [
        "Score was similiar to training data but test is very important. Good score overall on this dataset"
      ],
      "metadata": {
        "id": "7q_HTpXuUbl8"
      }
    },
    {
      "cell_type": "markdown",
      "source": [
        "Summary of the work Inlcude in document -\n",
        "I imported the dependicies the libraries and functions I needed. Loaded the csv file into a pandas dataframe. I started off by checking first five rows and last five of the data frame. Checked the missing values using the isnull function.There were no missing values. The data wasnt very balanced. I then seperated the data into legit and fraudlent transactions were I done some statitical analysis. When I had done that I split the data into targets and features for the machine learning algorithm. Training data and test data. Then I trained the logistic regression model then my final step was to evaluate the accuracy of the model on the data."
      ],
      "metadata": {
        "id": "JrokZGSoVa9k"
      }
    }
  ]
}